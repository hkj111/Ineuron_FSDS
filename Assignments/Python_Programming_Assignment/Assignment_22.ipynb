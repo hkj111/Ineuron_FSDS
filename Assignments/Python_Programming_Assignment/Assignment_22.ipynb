{
 "cells": [
  {
   "cell_type": "markdown",
   "metadata": {},
   "source": [
    "# Q1"
   ]
  },
  {
   "cell_type": "code",
   "execution_count": 11,
   "metadata": {},
   "outputs": [
    {
     "data": {
      "text/plain": [
       "[3, 6, 9]"
      ]
     },
     "execution_count": 11,
     "metadata": {},
     "output_type": "execute_result"
    }
   ],
   "source": [
    "def list_operation(x,y,n):\n",
    "    lst =  []\n",
    "    for i in range(x,y+1):\n",
    "        if i%n==0:\n",
    "            lst.append(i)\n",
    "\n",
    "    return lst\n",
    "list_operation(1, 10, 3)"
   ]
  },
  {
   "cell_type": "markdown",
   "metadata": {},
   "source": [
    "# Q2 Create a function that takes in two lists and returns True if the second list follows the first list by one element, and False otherwise. In other words, determine if the second list is the first list shifted to the right by 1."
   ]
  },
  {
   "cell_type": "code",
   "execution_count": 12,
   "metadata": {},
   "outputs": [
    {
     "name": "stdout",
     "output_type": "stream",
     "text": [
      "True\n",
      "False\n"
     ]
    }
   ],
   "source": [
    "def simon_says(lst1,lst2):\n",
    "    if lst1[-2] == lst2[-1]:\n",
    "        return True\n",
    "    else:\n",
    "        return False\n",
    "print(simon_says([1, 2], [5, 1]))\n",
    "print(simon_says([1, 2, 3, 4, 5], [5, 5, 1, 2, 3])\n",
    "\n",
    ")\n"
   ]
  },
  {
   "cell_type": "markdown",
   "metadata": {},
   "source": [
    "# Q3 A group of friends have decided to start a secret society. The name will be the first letter of each of their names, sorted in alphabetical order."
   ]
  },
  {
   "cell_type": "code",
   "execution_count": 13,
   "metadata": {},
   "outputs": [
    {
     "data": {
      "text/plain": [
       "'AMS'"
      ]
     },
     "execution_count": 13,
     "metadata": {},
     "output_type": "execute_result"
    }
   ],
   "source": [
    "def society_name(lst):\n",
    "    s = \"\"\n",
    "    for i in lst:\n",
    "        s=s+i[0]\n",
    "    return ''.join(sorted(s))\n",
    "society_name([\"Adam\", \"Sarah\", \"Malcolm\"])\n"
   ]
  },
  {
   "cell_type": "markdown",
   "metadata": {},
   "source": [
    "# Q4 An isogram is a word that has no duplicate letters. Create a function that takes a string and returns either True or False depending on whether or not it&#39;s an &quot;isogram&quot;."
   ]
  },
  {
   "cell_type": "code",
   "execution_count": 14,
   "metadata": {},
   "outputs": [
    {
     "name": "stdout",
     "output_type": "stream",
     "text": [
      "True\n",
      "False\n"
     ]
    }
   ],
   "source": [
    "def is_isogram(s):\n",
    "    s=s.lower()\n",
    "    if len(set([*s])) == len([*s]):\n",
    "        return True\n",
    "    else:\n",
    "        return False\n",
    "print(is_isogram(\"Algorism\"))\n",
    "print(is_isogram(\"pasSword\"))"
   ]
  },
  {
   "cell_type": "markdown",
   "metadata": {},
   "source": [
    "# Q5 Create a function that takes a string and returns True or False, depending on whether the characters are in order or not."
   ]
  },
  {
   "cell_type": "code",
   "execution_count": 15,
   "metadata": {},
   "outputs": [
    {
     "name": "stdout",
     "output_type": "stream",
     "text": [
      "True\n",
      "True\n",
      "False\n"
     ]
    }
   ],
   "source": [
    "def is_in_order(s):\n",
    "    if s == ''.join(sorted(s)):\n",
    "        return True\n",
    "    else:\n",
    "        return False\n",
    "\n",
    "print(is_in_order(\"abc\"))\n",
    "print(is_in_order(\"123\"))\n",
    "print(is_in_order(\"edabbit\"))"
   ]
  },
  {
   "cell_type": "code",
   "execution_count": null,
   "metadata": {},
   "outputs": [],
   "source": []
  }
 ],
 "metadata": {
  "kernelspec": {
   "display_name": "Python 3.8.0 ('data_science')",
   "language": "python",
   "name": "python3"
  },
  "language_info": {
   "codemirror_mode": {
    "name": "ipython",
    "version": 3
   },
   "file_extension": ".py",
   "mimetype": "text/x-python",
   "name": "python",
   "nbconvert_exporter": "python",
   "pygments_lexer": "ipython3",
   "version": "3.8.0"
  },
  "orig_nbformat": 4,
  "vscode": {
   "interpreter": {
    "hash": "25b4040b5ff3020960dc640986ca1625816a4555c1030d7be6e26966b849009a"
   }
  }
 },
 "nbformat": 4,
 "nbformat_minor": 2
}
