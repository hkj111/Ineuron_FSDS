{
 "cells": [
  {
   "cell_type": "markdown",
   "metadata": {},
   "source": [
    "# Q1. Write a Python program to Extract Unique values dictionary values?"
   ]
  },
  {
   "cell_type": "code",
   "execution_count": 4,
   "metadata": {},
   "outputs": [
    {
     "name": "stdout",
     "output_type": "stream",
     "text": [
      "Unique values [1, 2, 3, 4]\n"
     ]
    }
   ],
   "source": [
    "dict1 = {'a':1,\n",
    "        'b':2,\n",
    "        'c':3,\n",
    "        'd':1,\n",
    "        'e':4,\n",
    "        'f':2,\n",
    "        'g':2}\n",
    "unique_values = list(set(dict1.values()))\n",
    "print('Unique values',unique_values)"
   ]
  },
  {
   "cell_type": "markdown",
   "metadata": {},
   "source": [
    "# Q2. Write a Python program to find the sum of all items in a dictionary?"
   ]
  },
  {
   "cell_type": "code",
   "execution_count": 5,
   "metadata": {},
   "outputs": [
    {
     "name": "stdout",
     "output_type": "stream",
     "text": [
      "Sum of the items:  15\n"
     ]
    }
   ],
   "source": [
    "dict1 = {'a':1,\n",
    "        'b':2,\n",
    "        'c':3,\n",
    "        'd':1,\n",
    "        'e':4,\n",
    "        'f':2,\n",
    "        'g':2}\n",
    "sum1=0\n",
    "for key,value in dict1.items():\n",
    "    sum1 = sum1+value\n",
    "print(\"Sum of the items: \",sum1)"
   ]
  },
  {
   "cell_type": "markdown",
   "metadata": {},
   "source": [
    "# Q3. Write a Python program to Merging two Dictionaries?"
   ]
  },
  {
   "cell_type": "code",
   "execution_count": 9,
   "metadata": {},
   "outputs": [
    {
     "data": {
      "text/plain": [
       "{'a': 1, 'b': 2, 'c': 3, 'd': 1, 'e': 4, 'f': 2, 'g': 2, 'h': 6, 'i': 7}"
      ]
     },
     "execution_count": 9,
     "metadata": {},
     "output_type": "execute_result"
    }
   ],
   "source": [
    "dict1 = {'a':1,\n",
    "        'b':2,\n",
    "        'c':3,\n",
    "        'd':1,\n",
    "        'e':4,\n",
    "        'f':2,\n",
    "        'g':2}\n",
    "\n",
    "dict2  = {\n",
    "    'h':6,\n",
    "    'i':7\n",
    "}\n",
    "dict1.update(dict2)\n",
    "# dict3\n",
    "dict1\n"
   ]
  },
  {
   "cell_type": "markdown",
   "metadata": {},
   "source": [
    "# Q4. Write a Python program to convert key-values list to flat dictionary?"
   ]
  },
  {
   "cell_type": "code",
   "execution_count": 10,
   "metadata": {},
   "outputs": [
    {
     "data": {
      "text/plain": [
       "{'a': 1, 'b': 2, 'c': 3}"
      ]
     },
     "execution_count": 10,
     "metadata": {},
     "output_type": "execute_result"
    }
   ],
   "source": [
    "list1 = [['a',1],['b',2],['c',3]]\n",
    "dict1 = {}\n",
    "for i in list1:\n",
    "    dict1.update({i[0]:i[1]})\n",
    "dict1\n"
   ]
  },
  {
   "cell_type": "markdown",
   "metadata": {},
   "source": [
    "# Q5. Write a Python program to insertion at the beginning in OrderedDict?"
   ]
  },
  {
   "cell_type": "code",
   "execution_count": 11,
   "metadata": {},
   "outputs": [
    {
     "name": "stdout",
     "output_type": "stream",
     "text": [
      "OrderedDict([('c', 3), ('a', 1), ('b', 2)])\n"
     ]
    }
   ],
   "source": [
    "from collections import OrderedDict\n",
    " \n",
    "dict1 = OrderedDict([('a', 1), ('b', 2)])\n",
    " \n",
    "dict1.update({'c':3})\n",
    "dict1.move_to_end('c', last = False)\n",
    " \n",
    "print (dict1)"
   ]
  },
  {
   "cell_type": "markdown",
   "metadata": {},
   "source": [
    "# Q6. Write a Python program to check order of character in string using OrderedDict()?"
   ]
  },
  {
   "cell_type": "code",
   "execution_count": 12,
   "metadata": {},
   "outputs": [
    {
     "name": "stdout",
     "output_type": "stream",
     "text": [
      "Order of Character followed in the String:  true\n"
     ]
    }
   ],
   "source": [
    "from collections import OrderedDict \n",
    "  \n",
    "def orderOfString(input, pattern): \n",
    "      \n",
    "    dict1 = OrderedDict.fromkeys(input) \n",
    "\n",
    "    string = 0\n",
    "    for key,value in dict1.items(): \n",
    "        if (key == pattern[string]): \n",
    "            string = string + 1\n",
    "        if (string == (len(pattern))): \n",
    "            return 'true'\n",
    "    return 'false'\n",
    "  \n",
    "input = 'harsh kumar'\n",
    "pattern = 'hk'\n",
    "print(\"Order of Character followed in the String: \",orderOfString(input,pattern)) \n"
   ]
  },
  {
   "cell_type": "markdown",
   "metadata": {},
   "source": [
    "# Q7. Write a Python program to sort Python Dictionaries by Key or Value?"
   ]
  },
  {
   "cell_type": "code",
   "execution_count": 14,
   "metadata": {},
   "outputs": [
    {
     "name": "stdout",
     "output_type": "stream",
     "text": [
      "{'a': 1, 'b': 2, 'c': 3}\n"
     ]
    }
   ],
   "source": [
    "dict1 = {'a': 1, 'c': 3, 'b': 2}\n",
    "sorted_dict = {}\n",
    "sorted_keys = sorted(dict1, key=dict1.get) \n",
    "\n",
    "for w in sorted_keys:\n",
    "    sorted_dict[w] = dict1[w]\n",
    "\n",
    "print(sorted_dict)"
   ]
  },
  {
   "cell_type": "code",
   "execution_count": null,
   "metadata": {},
   "outputs": [],
   "source": []
  }
 ],
 "metadata": {
  "kernelspec": {
   "display_name": "Python 3.8.0 ('data_science')",
   "language": "python",
   "name": "python3"
  },
  "language_info": {
   "codemirror_mode": {
    "name": "ipython",
    "version": 3
   },
   "file_extension": ".py",
   "mimetype": "text/x-python",
   "name": "python",
   "nbconvert_exporter": "python",
   "pygments_lexer": "ipython3",
   "version": "3.8.0"
  },
  "orig_nbformat": 4,
  "vscode": {
   "interpreter": {
    "hash": "25b4040b5ff3020960dc640986ca1625816a4555c1030d7be6e26966b849009a"
   }
  }
 },
 "nbformat": 4,
 "nbformat_minor": 2
}
