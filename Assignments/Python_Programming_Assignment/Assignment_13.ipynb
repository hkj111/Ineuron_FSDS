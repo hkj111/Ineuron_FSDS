{
 "cells": [
  {
   "cell_type": "markdown",
   "id": "substantial-cuisine",
   "metadata": {},
   "source": [
    "# Assignment 13"
   ]
  },
  {
   "cell_type": "code",
   "execution_count": 7,
   "id": "growing-sarah",
   "metadata": {},
   "outputs": [
    {
     "name": "stdout",
     "output_type": "stream",
     "text": [
      "Enter comma separated value100,150,180\n",
      "18,22,24\n"
     ]
    }
   ],
   "source": [
    "#Q1\n",
    "from math import sqrt\n",
    "def formula(i):\n",
    "    Q = sqrt((2*50*i)//30)\n",
    "    return Q\n",
    "\n",
    "num = input(\"Enter comma separated value: \")\n",
    "\n",
    "num = num.split(',')\n",
    "l=[]\n",
    "for i in num:\n",
    "    l.append(str(int(formula(int(i)))))\n",
    "\n",
    "print(','.join(l))\n",
    "\n",
    "    "
   ]
  },
  {
   "cell_type": "code",
   "execution_count": 15,
   "id": "about-dream",
   "metadata": {},
   "outputs": [
    {
     "name": "stdout",
     "output_type": "stream",
     "text": [
      "Enter X: 3\n",
      "Enter Y: 5\n",
      "[[0, 0, 0, 0, 0], [0, 1, 2, 3, 4], [0, 2, 4, 6, 8]]\n"
     ]
    }
   ],
   "source": [
    "#Q2\n",
    "X = int(input(\"Enter X: \"))\n",
    "Y = int(input(\"Enter Y: \"))\n",
    "l1=[]\n",
    "l2=[]\n",
    "for i in range(0,X):\n",
    "    for j in range(0,Y):\n",
    "       \n",
    "        l1.append(i*j)\n",
    "    l2.append(l1)\n",
    "    l1=[]\n",
    "print(l2)"
   ]
  },
  {
   "cell_type": "code",
   "execution_count": 23,
   "id": "informational-bearing",
   "metadata": {},
   "outputs": [
    {
     "name": "stdout",
     "output_type": "stream",
     "text": [
      "Enter comma separated Words: hello,apple,word\n",
      "apple,hello,word\n"
     ]
    }
   ],
   "source": [
    "#Q3\n",
    "words = input(\"Enter comma separated Words: \")\n",
    "l = words.split(',')\n",
    "# print(l)\n",
    "l.sort()\n",
    "# print(l)\n",
    "print(','.join(l))"
   ]
  },
  {
   "cell_type": "code",
   "execution_count": 27,
   "id": "dirty-mortgage",
   "metadata": {},
   "outputs": [
    {
     "name": "stdout",
     "output_type": "stream",
     "text": [
      "Enter space separated words: hello and hellp and zed and how \n",
      " and hello hellp how zed\n"
     ]
    }
   ],
   "source": [
    "#Q4\n",
    "words = input(\"Enter space separated words: \")\n",
    "l = words.split(' ')\n",
    "l =  set(l)\n",
    "l = list(l)\n",
    "l.sort()\n",
    "print(' '.join(l))"
   ]
  },
  {
   "cell_type": "code",
   "execution_count": 30,
   "id": "scientific-pepper",
   "metadata": {},
   "outputs": [
    {
     "name": "stdout",
     "output_type": "stream",
     "text": [
      "Enter the sethello world! 123\n",
      "LETTERS:  10\n",
      "DIGITS:  3\n"
     ]
    }
   ],
   "source": [
    "#Q5\n",
    "from re import findall\n",
    "sentence = input(\"Enter the set\")\n",
    "alpha = findall(\"[a-zA-Z]\",sentence)\n",
    "dig = findall(\"[0-9]\",sentence)\n",
    "print(\"LETTERS: \",len(alpha))\n",
    "print(\"DIGITS: \",len(dig))"
   ]
  },
  {
   "cell_type": "code",
   "execution_count": 34,
   "id": "informed-offer",
   "metadata": {},
   "outputs": [
    {
     "name": "stdout",
     "output_type": "stream",
     "text": [
      "Enter comma separated passwords: ABd1234@1,a F1#,2w3E*,2We3345,ABd1234@112\n",
      "ABd1234@1,ABd1234@112\n"
     ]
    }
   ],
   "source": [
    "#Q6\n",
    "from re import search\n",
    "pwds = input(\"Enter comma separated passwords: \")\n",
    "l = pwds.split(',')\n",
    "right=[]\n",
    "for i in l:\n",
    "    if len(i)>=6 and len(i)<=12 and search(\"[a-z]\",i)!=None and search(\"[A-Z]\",i)!=None and search(\"[0-9]\",i)!=None and search(\"[$#@]\",i)!=None:\n",
    "        right.append(i)\n",
    "print(','.join(right))"
   ]
  },
  {
   "cell_type": "code",
   "execution_count": null,
   "id": "north-worth",
   "metadata": {},
   "outputs": [],
   "source": []
  }
 ],
 "metadata": {
  "kernelspec": {
   "display_name": "Python 3",
   "language": "python",
   "name": "python3"
  },
  "language_info": {
   "codemirror_mode": {
    "name": "ipython",
    "version": 3
   },
   "file_extension": ".py",
   "mimetype": "text/x-python",
   "name": "python",
   "nbconvert_exporter": "python",
   "pygments_lexer": "ipython3",
   "version": "3.7.9"
  }
 },
 "nbformat": 4,
 "nbformat_minor": 5
}
