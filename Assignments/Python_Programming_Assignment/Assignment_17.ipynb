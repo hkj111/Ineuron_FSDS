{
 "cells": [
  {
   "cell_type": "markdown",
   "id": "f45d3271-f40a-4aa8-bd37-8c47416eeead",
   "metadata": {},
   "source": [
    "# Q1. Create a function that takes three arguments a, b, c and returns the sum of the numbers that are evenly divided by c from the range a, b inclusive."
   ]
  },
  {
   "cell_type": "code",
   "execution_count": 6,
   "id": "bd44be86-91b7-4dc1-be87-49a2f598ad04",
   "metadata": {},
   "outputs": [
    {
     "data": {
      "text/plain": [
       "'No Number between 1 and 10 can be evenly divided by 20'"
      ]
     },
     "execution_count": 6,
     "metadata": {},
     "output_type": "execute_result"
    }
   ],
   "source": [
    "def sum_even(a, b, c):\n",
    "    sum = 0\n",
    "    for i in range(a, b+1):\n",
    "        if i % c == 0:\n",
    "            sum = sum+i\n",
    "    if sum == 0:\n",
    "        return f\"No Number between {a} and {b} can be evenly divided by {c}\"\n",
    "    else:\n",
    "        return sum\n",
    "\n",
    "\n",
    "sum_even(1, 10, 20)\n"
   ]
  },
  {
   "cell_type": "markdown",
   "id": "c6c8c0ef-9a35-40f0-890d-2308c831f96d",
   "metadata": {},
   "source": [
    "# Q2. Create a function that returns True if a given inequality expression is correct and False otherwise."
   ]
  },
  {
   "cell_type": "code",
   "execution_count": 13,
   "id": "f8ffdf3f-9be2-4acd-bb14-87da5c2ef94e",
   "metadata": {},
   "outputs": [
    {
     "name": "stdout",
     "output_type": "stream",
     "text": [
      "Expression 1 : Invalid Expression\n",
      "Expression 2 : True\n"
     ]
    }
   ],
   "source": [
    "def correct_signs(a):\n",
    "    \"\"\"Returns True and false based on if expression is true or false\n",
    "\n",
    "    Args:\n",
    "        a (str): Pass a string of expression\n",
    "    \"\"\"\n",
    "    # Checking whether the expression is valid or not\n",
    "    \n",
    "    flag = \"\"\n",
    "    try:\n",
    "        flag = eval(a)\n",
    "    except:\n",
    "        pass\n",
    "\n",
    "\n",
    "    if flag == True:\n",
    "        return True\n",
    "    elif flag == False:\n",
    "        return False\n",
    "    else:\n",
    "        flag = 'Invalid Expression'\n",
    "        return flag\n",
    "\n",
    "\n",
    "print('Expression 1 :', correct_signs('2>3<4'))\n",
    "print('Expression 2 :', correct_signs('2<3<4'))\n"
   ]
  },
  {
   "cell_type": "markdown",
   "id": "e1784ed9",
   "metadata": {},
   "source": [
    "# Q3. Create a function that replaces all the vowels in a string with a specified character."
   ]
  },
  {
   "cell_type": "code",
   "execution_count": 2,
   "id": "31014611-a7c7-4846-a815-c51e4c2ffb91",
   "metadata": {},
   "outputs": [
    {
     "name": "stdout",
     "output_type": "stream",
     "text": [
      "th# ##rdv#rk\n"
     ]
    }
   ],
   "source": [
    "import re\n",
    "def replace_vowels(s, a):\n",
    "    \"\"\"Replace all the vowels in a string with a character\n",
    "\n",
    "    Args:\n",
    "        s (str): String \n",
    "        a (str): Character which will replace the vowels\n",
    "    \"\"\"\n",
    "    final_str = re.sub(\"a|e|i|o|u\",a,s)\n",
    "    return print(final_str)\n",
    "\n",
    "\n",
    "replace_vowels(\"the aardvark\", \"#\")\n"
   ]
  },
  {
   "cell_type": "markdown",
   "id": "d668aa60",
   "metadata": {},
   "source": [
    "# Q4. Write a function that calculates the factorial of a number recursively."
   ]
  },
  {
   "cell_type": "code",
   "execution_count": 9,
   "id": "632b7b5a",
   "metadata": {},
   "outputs": [
    {
     "name": "stdout",
     "output_type": "stream",
     "text": [
      "6\n",
      "120\n"
     ]
    }
   ],
   "source": [
    "def factorial(num):\n",
    "    \"\"\"_summary_\n",
    "\n",
    "    Args:\n",
    "        num (int): Number for which factorial will be calculated\n",
    "    \"\"\"\n",
    "    fac=0\n",
    "    if num==0 and fac==0:\n",
    "        return 0\n",
    "    elif num==1 and fac==0:\n",
    "        return 1\n",
    "    else:\n",
    "        fac = num*factorial(num-1)\n",
    "    return fac\n",
    "print(factorial(3))\n",
    "print(factorial(5))\n",
    "\n"
   ]
  },
  {
   "cell_type": "markdown",
   "id": "a9b39199",
   "metadata": {},
   "source": [
    "#  Q5. Hamming distance is the number of characters that differ between two strings."
   ]
  },
  {
   "cell_type": "code",
   "execution_count": 11,
   "id": "d98b47d7",
   "metadata": {},
   "outputs": [
    {
     "data": {
      "text/plain": [
       "'Hamming Distance is 5'"
      ]
     },
     "execution_count": 11,
     "metadata": {},
     "output_type": "execute_result"
    }
   ],
   "source": [
    "def hamming_distance(str1,str2):\n",
    "    \"\"\"Calculates the hamming distance between 2 equal lengths string\n",
    "\n",
    "    Args:\n",
    "        str1 (str): String 1\n",
    "        str2 (str): String 2\n",
    "    \"\"\"\n",
    "    distance = 0\n",
    "    if len(str1)!=len(str2):\n",
    "        return \"Strings are not of Equal length\"\n",
    "    else:\n",
    "        for i,j in zip(str1,str2):\n",
    "            if i!=j:\n",
    "                distance = distance+1\n",
    "        return f\"Hamming Distance is {distance}\"\n",
    "\n",
    "hamming_distance(\"abcde\", \"bcdef\")\n"
   ]
  },
  {
   "cell_type": "code",
   "execution_count": null,
   "id": "e5ef1ff2",
   "metadata": {},
   "outputs": [],
   "source": []
  }
 ],
 "metadata": {
  "interpreter": {
   "hash": "25b4040b5ff3020960dc640986ca1625816a4555c1030d7be6e26966b849009a"
  },
  "kernelspec": {
   "display_name": "Python 3.8.0 ('data_science')",
   "language": "python",
   "name": "python3"
  },
  "language_info": {
   "codemirror_mode": {
    "name": "ipython",
    "version": 3
   },
   "file_extension": ".py",
   "mimetype": "text/x-python",
   "name": "python",
   "nbconvert_exporter": "python",
   "pygments_lexer": "ipython3",
   "version": "3.8.0"
  }
 },
 "nbformat": 4,
 "nbformat_minor": 5
}
