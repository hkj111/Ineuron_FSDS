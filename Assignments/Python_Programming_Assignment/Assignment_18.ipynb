{
 "cells": [
  {
   "cell_type": "markdown",
   "metadata": {},
   "source": [
    "# Q1. Create a function that takes a list of non-negative integers and strings and return a new list without the strings."
   ]
  },
  {
   "cell_type": "code",
   "execution_count": 11,
   "metadata": {},
   "outputs": [
    {
     "data": {
      "text/plain": [
       "[1, 2]"
      ]
     },
     "execution_count": 11,
     "metadata": {},
     "output_type": "execute_result"
    }
   ],
   "source": [
    "def filter_list(list1):\n",
    "    \"\"\"This function will return list without the strings\n",
    "\n",
    "    Args:\n",
    "        list1 (list): List of Non-negative Integers with strings\n",
    "    \"\"\"\n",
    "    list2 = []\n",
    "    for i in list1:\n",
    "        if type(i)==int:\n",
    "            list2.append(i)\n",
    "    return list2\n",
    "\n",
    "filter_list([1, 2, \"a\", \"b\"])\n"
   ]
  },
  {
   "cell_type": "markdown",
   "metadata": {},
   "source": [
    "# Q2. The &quot;Reverser&quot; takes a string as input and returns that string in reverse order, with the opposite case."
   ]
  },
  {
   "cell_type": "code",
   "execution_count": 12,
   "metadata": {},
   "outputs": [
    {
     "data": {
      "text/plain": [
       "'HsRaH'"
      ]
     },
     "execution_count": 12,
     "metadata": {},
     "output_type": "execute_result"
    }
   ],
   "source": [
    "def  reverser(s):\n",
    "    \"\"\"Takes a String reverse the string and also reverse the uppercase\n",
    "\n",
    "    Args:\n",
    "        s (str): string to be reversed \n",
    "    \"\"\"\n",
    "    return s[::-1].swapcase()\n",
    "\n",
    "reverser(\"hArSh\")\n"
   ]
  },
  {
   "cell_type": "markdown",
   "metadata": {},
   "source": [
    "# Q3"
   ]
  },
  {
   "cell_type": "code",
   "execution_count": 13,
   "metadata": {},
   "outputs": [
    {
     "name": "stdout",
     "output_type": "stream",
     "text": [
      "First:  1\n",
      "Middle:  [2, 3, 4, 5]\n",
      "Last:  6\n"
     ]
    }
   ],
   "source": [
    "lst = [1,2,3,4,5,6]\n",
    "middle  = []\n",
    "for i,j in enumerate(lst):\n",
    "    if i==0:\n",
    "        first = j\n",
    "    elif i!=0 and i!=len(lst)-1:\n",
    "        middle.append(j)\n",
    "\n",
    "    if i==len(lst)-1:\n",
    "        last  = j\n",
    "print(\"First: \",first)\n",
    "print(\"Middle: \",middle)\n",
    "print(\"Last: \",last)\n"
   ]
  },
  {
   "cell_type": "markdown",
   "metadata": {},
   "source": [
    "# Q4 Write a function that calculates the factorial of a number recursively."
   ]
  },
  {
   "cell_type": "code",
   "execution_count": 14,
   "metadata": {},
   "outputs": [
    {
     "name": "stdout",
     "output_type": "stream",
     "text": [
      "6\n",
      "120\n"
     ]
    }
   ],
   "source": [
    "def factorial(num):\n",
    "    \"\"\"_summary_\n",
    "\n",
    "    Args:\n",
    "        num (int): Number for which factorial will be calculated\n",
    "    \"\"\"\n",
    "    fac=0\n",
    "    if num==0 and fac==0:\n",
    "        return 0\n",
    "    elif num==1 and fac==0:\n",
    "        return 1\n",
    "    else:\n",
    "        fac = num*factorial(num-1)\n",
    "    return fac\n",
    "print(factorial(3))\n",
    "print(factorial(5))\n"
   ]
  },
  {
   "cell_type": "markdown",
   "metadata": {},
   "source": [
    "# Q5 Write a function that moves all elements of one type to the end of the list."
   ]
  },
  {
   "cell_type": "code",
   "execution_count": 15,
   "metadata": {},
   "outputs": [
    {
     "data": {
      "text/plain": [
       "'Element at the last: [3, 2, 4, 4, 1, 1]'"
      ]
     },
     "execution_count": 15,
     "metadata": {},
     "output_type": "execute_result"
    }
   ],
   "source": [
    "def move_to_end(lst,ele):\n",
    "    \"\"\"Move a particular element to the end of the list\n",
    "\n",
    "    Args:\n",
    "        lst (_type_): _description_\n",
    "    \"\"\"\n",
    "\n",
    "    for i in range(lst.count(ele)):\n",
    "\n",
    "        lst.append(lst.pop(lst.index(ele)))\n",
    "    \n",
    "    return \"Element at the last: \" + str(lst)\n",
    "\n",
    "move_to_end([1, 3, 2, 4, 4, 1], 1)"
   ]
  },
  {
   "cell_type": "code",
   "execution_count": null,
   "metadata": {},
   "outputs": [],
   "source": []
  }
 ],
 "metadata": {
  "kernelspec": {
   "display_name": "Python 3.8.0 ('data_science')",
   "language": "python",
   "name": "python3"
  },
  "language_info": {
   "codemirror_mode": {
    "name": "ipython",
    "version": 3
   },
   "file_extension": ".py",
   "mimetype": "text/x-python",
   "name": "python",
   "nbconvert_exporter": "python",
   "pygments_lexer": "ipython3",
   "version": "3.8.0"
  },
  "orig_nbformat": 4,
  "vscode": {
   "interpreter": {
    "hash": "25b4040b5ff3020960dc640986ca1625816a4555c1030d7be6e26966b849009a"
   }
  }
 },
 "nbformat": 4,
 "nbformat_minor": 2
}
