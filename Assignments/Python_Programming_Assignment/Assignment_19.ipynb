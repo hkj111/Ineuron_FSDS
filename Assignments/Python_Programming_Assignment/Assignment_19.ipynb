{
 "cells": [
  {
   "cell_type": "markdown",
   "metadata": {},
   "source": [
    "# Q1 Create a function that takes a string and returns a string in which each character is repeated once."
   ]
  },
  {
   "cell_type": "code",
   "execution_count": 17,
   "metadata": {},
   "outputs": [
    {
     "data": {
      "text/plain": [
       "'hhaarr'"
      ]
     },
     "execution_count": 17,
     "metadata": {},
     "output_type": "execute_result"
    }
   ],
   "source": [
    "def double_char(s):\n",
    "    \"\"\"Returns string with each character repeated once\n",
    "\n",
    "    Args:\n",
    "        s (string): string\n",
    "    \"\"\"\n",
    "    f_s = \"\"\n",
    "    for i in s:\n",
    "        f_s = f_s +i+i\n",
    "    return f_s\n",
    "double_char(\"har\")"
   ]
  },
  {
   "cell_type": "markdown",
   "metadata": {},
   "source": [
    "# Q2 Create a function that reverses a boolean value and returns the string &quot;boolean expected&quot; if another variable type is given."
   ]
  },
  {
   "cell_type": "code",
   "execution_count": 18,
   "metadata": {},
   "outputs": [
    {
     "name": "stdout",
     "output_type": "stream",
     "text": [
      "boolean Expected\n",
      "False\n",
      "boolean Expected\n",
      "True\n"
     ]
    }
   ],
   "source": [
    "def reverse(a):\n",
    "    \n",
    "    if a == True and type(a)==bool:\n",
    "        return False\n",
    "    elif a  == False and  type(a)==bool:\n",
    "        return True\n",
    "    else:\n",
    "       return \"boolean Expected\"\n",
    "\n",
    "print(reverse(0))\n",
    "print(reverse(True))\n",
    "print(reverse(None))\n",
    "print(reverse(False))\n"
   ]
  },
  {
   "cell_type": "markdown",
   "metadata": {},
   "source": [
    "# Q3 Create a function that returns the thickness (in meters) of a piece of paper after folding it n number of times. The paper starts off with a thickness of 0.5mm."
   ]
  },
  {
   "cell_type": "code",
   "execution_count": 19,
   "metadata": {},
   "outputs": [
    {
     "data": {
      "text/plain": [
       "'1048.576 m'"
      ]
     },
     "execution_count": 19,
     "metadata": {},
     "output_type": "execute_result"
    }
   ],
   "source": [
    "def num_layers(n):\n",
    "    \"\"\"Returns thickness in meters\n",
    "\n",
    "    Args:\n",
    "        n (int): Number\n",
    "    \"\"\"\n",
    "    return f\"{(0.5/1000)*(2**n)} m\"\n",
    "\n",
    "num_layers(21)"
   ]
  },
  {
   "cell_type": "markdown",
   "metadata": {},
   "source": [
    "# Q4 Create a function that takes a single string as argument and returns an ordered list containing the indices of all capital letters in the string."
   ]
  },
  {
   "cell_type": "code",
   "execution_count": 20,
   "metadata": {},
   "outputs": [
    {
     "data": {
      "text/plain": [
       "[0, 1, 2, 3, 4, 5]"
      ]
     },
     "execution_count": 20,
     "metadata": {},
     "output_type": "execute_result"
    }
   ],
   "source": [
    "def index_of_caps(s):\n",
    "    \"\"\"returns index of Capitals\n",
    "\n",
    "    Args:\n",
    "        s (_type_): _description_\n",
    "    \"\"\"\n",
    "    index = []\n",
    "    for i,j in enumerate(s):\n",
    "        if j.isupper():\n",
    "            index.append(i)\n",
    "    return index\n",
    "\n",
    "index_of_caps(\"STRIKE\")"
   ]
  },
  {
   "cell_type": "markdown",
   "metadata": {},
   "source": [
    "# Q5 Using list comprehensions, create a function that finds all even numbers from 1 to the given number."
   ]
  },
  {
   "cell_type": "code",
   "execution_count": 21,
   "metadata": {},
   "outputs": [
    {
     "data": {
      "text/plain": [
       "[2, 4, 6, 8]"
      ]
     },
     "execution_count": 21,
     "metadata": {},
     "output_type": "execute_result"
    }
   ],
   "source": [
    "def find_even_nums(n):\n",
    "    \"\"\"Get even numbers till the number provided\n",
    "\n",
    "    Args:\n",
    "        n (int): numbers\n",
    "\n",
    "    \"\"\"\n",
    "    even = []\n",
    "    for i in range(1,n+1):\n",
    "        if i%2==0:\n",
    "            even.append(i)\n",
    "    return even\n",
    "\n",
    "find_even_nums(8)"
   ]
  },
  {
   "cell_type": "code",
   "execution_count": null,
   "metadata": {},
   "outputs": [],
   "source": []
  }
 ],
 "metadata": {
  "kernelspec": {
   "display_name": "Python 3.8.0 ('data_science')",
   "language": "python",
   "name": "python3"
  },
  "language_info": {
   "codemirror_mode": {
    "name": "ipython",
    "version": 3
   },
   "file_extension": ".py",
   "mimetype": "text/x-python",
   "name": "python",
   "nbconvert_exporter": "python",
   "pygments_lexer": "ipython3",
   "version": "3.8.0"
  },
  "orig_nbformat": 4,
  "vscode": {
   "interpreter": {
    "hash": "25b4040b5ff3020960dc640986ca1625816a4555c1030d7be6e26966b849009a"
   }
  }
 },
 "nbformat": 4,
 "nbformat_minor": 2
}
