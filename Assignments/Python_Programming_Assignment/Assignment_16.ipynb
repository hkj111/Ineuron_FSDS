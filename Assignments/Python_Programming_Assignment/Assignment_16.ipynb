{
 "cells": [
  {
   "cell_type": "markdown",
   "id": "final-rebecca",
   "metadata": {},
   "source": [
    "# Assignment 16"
   ]
  },
  {
   "cell_type": "code",
   "execution_count": 2,
   "id": "afraid-finnish",
   "metadata": {},
   "outputs": [
    {
     "name": "stdout",
     "output_type": "stream",
     "text": [
      "Enter a wordharsh\n",
      "ha...ha...harsh?\n"
     ]
    }
   ],
   "source": [
    "#Q1\n",
    "def stutter(word):\n",
    "    a=word[0:2]\n",
    "    fword = a+\"...\"+a+\"...\"+word+\"?\"\n",
    "    return fword\n",
    "word = input(\"Enter a word\")\n",
    "print(stutter(word))"
   ]
  },
  {
   "cell_type": "code",
   "execution_count": 6,
   "id": "arabic-scottish",
   "metadata": {},
   "outputs": [
    {
     "name": "stdout",
     "output_type": "stream",
     "text": [
      "Enter radians: 1\n",
      "57.3\n"
     ]
    }
   ],
   "source": [
    "#Q2\n",
    "from math import pi\n",
    "from math import floor\n",
    "def degree(n):\n",
    "    deg = 180/pi\n",
    "    return round(deg,1)\n",
    "n = float(input(\"Enter radians: \"))\n",
    "print(degree(1))"
   ]
  },
  {
   "cell_type": "code",
   "execution_count": 7,
   "id": "tamil-judge",
   "metadata": {},
   "outputs": [
    {
     "name": "stdout",
     "output_type": "stream",
     "text": [
      "Enter a number :5\n"
     ]
    },
    {
     "data": {
      "text/plain": [
       "'Curzon number'"
      ]
     },
     "execution_count": 7,
     "metadata": {},
     "output_type": "execute_result"
    }
   ],
   "source": [
    "#Q3\n",
    "def curzon(n):\n",
    "    a = 2**n+1\n",
    "    b=2*n+1\n",
    "    if a%b==0:\n",
    "        return \"Curzon number\"\n",
    "    else:\n",
    "        return \"Not a curzon number\"\n",
    "\n",
    "n = int(input(\"Enter a number :\"))\n",
    "curzon(n)"
   ]
  },
  {
   "cell_type": "code",
   "execution_count": 9,
   "id": "delayed-currency",
   "metadata": {},
   "outputs": [
    {
     "name": "stdout",
     "output_type": "stream",
     "text": [
      "Enter length of the side: 1\n"
     ]
    },
    {
     "data": {
      "text/plain": [
       "2.6"
      ]
     },
     "execution_count": 9,
     "metadata": {},
     "output_type": "execute_result"
    }
   ],
   "source": [
    "#Q4\n",
    "from math import sqrt\n",
    "def hexa(n):\n",
    "    return round((3*sqrt(3)*n**2)/2,1)\n",
    "\n",
    "n = float(input(\"Enter length of the side: \"))\n",
    "hexa(n)"
   ]
  },
  {
   "cell_type": "code",
   "execution_count": 10,
   "id": "competent-topic",
   "metadata": {},
   "outputs": [
    {
     "name": "stdout",
     "output_type": "stream",
     "text": [
      "4\n"
     ]
    }
   ],
   "source": [
    "#Q5\n",
    "def binaryToDecimal(binary):\n",
    "     \n",
    "    binary1 = binary\n",
    "    decimal, i, n = 0, 0, 0\n",
    "    while(binary != 0):\n",
    "        dec = binary % 10\n",
    "        decimal = decimal + dec * pow(2, i)\n",
    "        binary = binary//10\n",
    "        i += 1\n",
    "    print(decimal) \n",
    "binaryToDecimal(100)"
   ]
  },
  {
   "cell_type": "code",
   "execution_count": null,
   "id": "hired-channel",
   "metadata": {},
   "outputs": [],
   "source": []
  }
 ],
 "metadata": {
  "kernelspec": {
   "display_name": "Python 3",
   "language": "python",
   "name": "python3"
  },
  "language_info": {
   "codemirror_mode": {
    "name": "ipython",
    "version": 3
   },
   "file_extension": ".py",
   "mimetype": "text/x-python",
   "name": "python",
   "nbconvert_exporter": "python",
   "pygments_lexer": "ipython3",
   "version": "3.7.9"
  }
 },
 "nbformat": 4,
 "nbformat_minor": 5
}
