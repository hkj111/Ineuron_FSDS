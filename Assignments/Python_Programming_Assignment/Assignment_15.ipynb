{
 "cells": [
  {
   "cell_type": "code",
   "execution_count": 8,
   "id": "legendary-soccer",
   "metadata": {},
   "outputs": [
    {
     "name": "stdout",
     "output_type": "stream",
     "text": [
      "Enter number: 100\n",
      "0,35,70\n"
     ]
    }
   ],
   "source": [
    "#Q1\n",
    "a=[]\n",
    "def generator(n):\n",
    "    for i in range(0,n):\n",
    "        if i%5==0 and i%7==0:\n",
    "            yield a.append(str(i))\n",
    "n = int(input(\"Enter number: \"))\n",
    "for i in generator(n):\n",
    "    pass\n",
    "            \n",
    "    \n",
    "print(','.join(a))\n",
    "    "
   ]
  },
  {
   "cell_type": "code",
   "execution_count": 9,
   "id": "global-heath",
   "metadata": {},
   "outputs": [
    {
     "name": "stdout",
     "output_type": "stream",
     "text": [
      "Enter number: 10\n",
      "0,2,4,6,8\n"
     ]
    }
   ],
   "source": [
    "#Q2\n",
    "a=[]\n",
    "def generator(n):\n",
    "    for i in range(0,n):\n",
    "        if i%2==0:\n",
    "            yield a.append(str(i))\n",
    "n = int(input(\"Enter number: \"))\n",
    "for i in generator(n):\n",
    "    pass\n",
    "            \n",
    "    \n",
    "print(','.join(a))"
   ]
  },
  {
   "cell_type": "code",
   "execution_count": 16,
   "id": "third-notice",
   "metadata": {},
   "outputs": [
    {
     "name": "stdout",
     "output_type": "stream",
     "text": [
      "Enter the number of terms3\n",
      "[0, 1, 1, 2, 3]\n"
     ]
    }
   ],
   "source": [
    "#Q3\n",
    "n=int(input(\"Enter the number of terms\"))\n",
    "mylist=[0,1]  \n",
    "[mylist.append(mylist[-2]+mylist[-1]) for n in range(n)]\n",
    "print(mylist)  "
   ]
  },
  {
   "cell_type": "code",
   "execution_count": 10,
   "id": "intensive-lunch",
   "metadata": {},
   "outputs": [
    {
     "name": "stdout",
     "output_type": "stream",
     "text": [
      "Enter the email addressharsh@gmail.com\n",
      "harsh\n"
     ]
    }
   ],
   "source": [
    "#Q4\n",
    "email = input(\"Enter the email address\")\n",
    "l = email.split('@')\n",
    "print(l[0])"
   ]
  },
  {
   "cell_type": "code",
   "execution_count": 18,
   "id": "portuguese-customer",
   "metadata": {},
   "outputs": [
    {
     "name": "stdout",
     "output_type": "stream",
     "text": [
      "100\n"
     ]
    }
   ],
   "source": [
    "#Q5\n",
    "class Shape(object):\n",
    "    def __init__(self):\n",
    "        pass\n",
    "\n",
    "    def area(self):\n",
    "        return 0\n",
    "\n",
    "class Square(Shape):\n",
    "    def __init__(self, l):\n",
    "        Shape.__init__(self)\n",
    "        self.length = l\n",
    "\n",
    "    def area(self):\n",
    "        return self.length*self.length\n",
    "\n",
    "area = Square(10)\n",
    "print(area.area())"
   ]
  },
  {
   "cell_type": "code",
   "execution_count": null,
   "id": "established-fraction",
   "metadata": {},
   "outputs": [],
   "source": []
  }
 ],
 "metadata": {
  "kernelspec": {
   "display_name": "Python 3",
   "language": "python",
   "name": "python3"
  },
  "language_info": {
   "codemirror_mode": {
    "name": "ipython",
    "version": 3
   },
   "file_extension": ".py",
   "mimetype": "text/x-python",
   "name": "python",
   "nbconvert_exporter": "python",
   "pygments_lexer": "ipython3",
   "version": "3.7.9"
  }
 },
 "nbformat": 4,
 "nbformat_minor": 5
}
