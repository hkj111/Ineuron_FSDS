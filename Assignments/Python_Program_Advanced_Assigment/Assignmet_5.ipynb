{
 "cells": [
  {
   "cell_type": "markdown",
   "id": "5df58c91-cd80-4baf-9ca7-109aa5907735",
   "metadata": {},
   "source": [
    "# Q1"
   ]
  },
  {
   "cell_type": "code",
   "execution_count": 6,
   "id": "14abebf3-468a-42ea-a3ea-9dbc1c3cdfdb",
   "metadata": {},
   "outputs": [],
   "source": [
    "def f(n):\n",
    "    # + - * /\n",
    "    a=[8,2]\n",
    "    return a[n%2]\n",
    "    \n",
    "    "
   ]
  },
  {
   "cell_type": "code",
   "execution_count": 7,
   "id": "2183d563-5e2d-4bea-8aa9-4e063bbad954",
   "metadata": {},
   "outputs": [
    {
     "data": {
      "text/plain": [
       "2"
      ]
     },
     "execution_count": 7,
     "metadata": {},
     "output_type": "execute_result"
    }
   ],
   "source": [
    "f(13)"
   ]
  },
  {
   "cell_type": "markdown",
   "id": "5f285294-a438-4bbc-9f5b-aecf45789e83",
   "metadata": {},
   "source": [
    "# Q2"
   ]
  },
  {
   "cell_type": "code",
   "execution_count": 31,
   "id": "31241255-505d-4222-81b6-f87c8e36317b",
   "metadata": {},
   "outputs": [],
   "source": [
    "from collections import Counter\n",
    "def majority_vote(lst):\n",
    "    dict1 = Counter(lst)\n",
    "    if dict1[list(dict1.keys())[0]] <= (len(lst))/2:\n",
    "        return print(None)\n",
    "    else:\n",
    "        return list(dict1.keys())[0]"
   ]
  },
  {
   "cell_type": "code",
   "execution_count": 33,
   "id": "d707cf12-6a96-4a70-992e-75738ea3ee67",
   "metadata": {},
   "outputs": [
    {
     "data": {
      "text/plain": [
       "'A'"
      ]
     },
     "execution_count": 33,
     "metadata": {},
     "output_type": "execute_result"
    }
   ],
   "source": [
    "majority_vote(['A','A','B'])"
   ]
  },
  {
   "cell_type": "markdown",
   "id": "d5c2df6e-0d5d-47ef-8928-22635648d0cd",
   "metadata": {},
   "source": [
    "# Q3"
   ]
  },
  {
   "cell_type": "code",
   "execution_count": 82,
   "id": "176f30d2-c94f-46fe-b1f7-adddc5860400",
   "metadata": {},
   "outputs": [],
   "source": [
    "def censor_string(string,lst,char):\n",
    "    str_list = string.split(\" \")\n",
    "    final_string = \"\"\n",
    "    for i in lst:\n",
    "        for j in range(0,len(str_list)):\n",
    "            if i==str_list[j]:\n",
    "                final_string = len(str_list[j])*char \n",
    "                str_list[j] = final_string\n",
    "                \n",
    "    return \" \".join(str_list)\n",
    "                \n",
    "        \n",
    "    "
   ]
  },
  {
   "cell_type": "code",
   "execution_count": 86,
   "id": "15605cb5-dad9-4ff4-8427-abce42b4fde1",
   "metadata": {},
   "outputs": [
    {
     "name": "stdout",
     "output_type": "stream",
     "text": [
      "----- is - Wednesday!\n",
      "Why *** the ******* cross the ****\n"
     ]
    }
   ],
   "source": [
    "print(censor_string(\"Today is a Wednesday!\",['Today','a'],'-'))\n",
    "print(censor_string(\"Why did the chicken cross the road\",['did','chicken','road'],'*'))"
   ]
  },
  {
   "cell_type": "markdown",
   "id": "e091bfa4-8025-4441-9a0c-cc2cc2b49944",
   "metadata": {},
   "source": [
    "# Q4"
   ]
  },
  {
   "cell_type": "code",
   "execution_count": 127,
   "id": "d77d23ce-3256-4a49-adae-b6fc6d1d55b0",
   "metadata": {},
   "outputs": [],
   "source": [
    "def is_polydivisble(num):\n",
    "    n = ''\n",
    "    num = str(num)\n",
    "    flag = True\n",
    "    for i in range(1,len(num)+1):\n",
    "        if flag == True:\n",
    "            n+=num[i-1]\n",
    "            if int(n)%i!=0:\n",
    "                flag = False\n",
    "        else:\n",
    "            return False\n",
    "    if flag == True:\n",
    "        return True\n",
    "        \n",
    "                   \n",
    "        \n",
    "    "
   ]
  },
  {
   "cell_type": "code",
   "execution_count": 131,
   "id": "5bf8211b-6530-4973-a1a4-5f9efa2a37dd",
   "metadata": {},
   "outputs": [
    {
     "name": "stdout",
     "output_type": "stream",
     "text": [
      "False\n",
      "True\n"
     ]
    }
   ],
   "source": [
    "print(is_polydivisble(123220))\n",
    "print(is_polydivisble(1232))"
   ]
  },
  {
   "cell_type": "markdown",
   "id": "755dda60-dd29-4a4e-87fc-f99d80a681df",
   "metadata": {},
   "source": [
    "# Q5"
   ]
  },
  {
   "cell_type": "code",
   "execution_count": 153,
   "id": "ec2a4b83-1684-4643-afc4-cf2654b86b2b",
   "metadata": {},
   "outputs": [],
   "source": [
    "from math import sqrt\n",
    "\n",
    "\n",
    "def sum_primes(lst):\n",
    "    s = 0\n",
    "    for i in lst:\n",
    "        if prime(i)==True:\n",
    "            s+=i\n",
    "    return s\n",
    "        \n",
    "        \n",
    "def prime(n):   \n",
    "    prime_flag = 0\n",
    "    if(n > 1):\n",
    "        for i in range(2, int(sqrt(n)) + 1):\n",
    "            if (n % i == 0):\n",
    "                prime_flag = 1\n",
    "                break\n",
    "        if (prime_flag == 0):\n",
    "            return True\n",
    "        else:\n",
    "            return False\n",
    "    else:\n",
    "        return False\n",
    "    "
   ]
  },
  {
   "cell_type": "code",
   "execution_count": 154,
   "id": "4a73961c-1d44-41f7-97de-0867c5a07d14",
   "metadata": {},
   "outputs": [
    {
     "data": {
      "text/plain": [
       "17"
      ]
     },
     "execution_count": 154,
     "metadata": {},
     "output_type": "execute_result"
    }
   ],
   "source": [
    "sum_primes([1, 2, 3, 4, 5, 6, 7, 8, 9, 10])"
   ]
  },
  {
   "cell_type": "code",
   "execution_count": null,
   "id": "5b909925-d440-423e-8c39-44c1a929ed89",
   "metadata": {},
   "outputs": [],
   "source": []
  }
 ],
 "metadata": {
  "kernelspec": {
   "display_name": "Python 3 (ipykernel)",
   "language": "python",
   "name": "python3"
  },
  "language_info": {
   "codemirror_mode": {
    "name": "ipython",
    "version": 3
   },
   "file_extension": ".py",
   "mimetype": "text/x-python",
   "name": "python",
   "nbconvert_exporter": "python",
   "pygments_lexer": "ipython3",
   "version": "3.8.0"
  }
 },
 "nbformat": 4,
 "nbformat_minor": 5
}
