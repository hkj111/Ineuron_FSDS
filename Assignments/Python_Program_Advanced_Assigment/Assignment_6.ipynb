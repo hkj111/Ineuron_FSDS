{
 "cells": [
  {
   "cell_type": "markdown",
   "id": "83282e59-2c85-4ee6-bdd5-29691f8fde4a",
   "metadata": {},
   "source": [
    "# Q1"
   ]
  },
  {
   "cell_type": "code",
   "execution_count": null,
   "id": "f63e84ed-22e6-4150-aee5-b0e2b23557ea",
   "metadata": {},
   "outputs": [],
   "source": [
    "def find_the_difference(word,letter):\n",
    "    "
   ]
  },
  {
   "cell_type": "markdown",
   "id": "5d28ad4f-f780-4299-b5de-6368d2f849bd",
   "metadata": {},
   "source": []
  },
  {
   "cell_type": "code",
   "execution_count": null,
   "id": "21dfc952-b50b-4966-a7fc-bed5496c4336",
   "metadata": {},
   "outputs": [],
   "source": []
  },
  {
   "cell_type": "markdown",
   "id": "59624138-2135-476a-8a95-bec74fff7e81",
   "metadata": {},
   "source": []
  },
  {
   "cell_type": "code",
   "execution_count": null,
   "id": "3b4b16da-5ae9-4f1c-8d48-e245f5f265cc",
   "metadata": {},
   "outputs": [],
   "source": []
  },
  {
   "cell_type": "markdown",
   "id": "4213e1de-b2f6-43eb-8687-5d906d73e015",
   "metadata": {},
   "source": []
  },
  {
   "cell_type": "code",
   "execution_count": null,
   "id": "1841a2ad-bafb-4bbe-bd57-8bc4d90dce54",
   "metadata": {},
   "outputs": [],
   "source": []
  },
  {
   "cell_type": "markdown",
   "id": "c0130d4b-0c81-4357-a4d2-08b579efe756",
   "metadata": {},
   "source": []
  },
  {
   "cell_type": "code",
   "execution_count": null,
   "id": "6039a41a-d519-46f6-939e-554196c91d0b",
   "metadata": {},
   "outputs": [],
   "source": []
  }
 ],
 "metadata": {
  "kernelspec": {
   "display_name": "Python 3 (ipykernel)",
   "language": "python",
   "name": "python3"
  },
  "language_info": {
   "codemirror_mode": {
    "name": "ipython",
    "version": 3
   },
   "file_extension": ".py",
   "mimetype": "text/x-python",
   "name": "python",
   "nbconvert_exporter": "python",
   "pygments_lexer": "ipython3",
   "version": "3.8.0"
  }
 },
 "nbformat": 4,
 "nbformat_minor": 5
}
