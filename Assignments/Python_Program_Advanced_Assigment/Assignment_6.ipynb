{
 "cells": [
  {
   "cell_type": "markdown",
   "id": "83282e59-2c85-4ee6-bdd5-29691f8fde4a",
   "metadata": {},
   "source": [
    "# Q1"
   ]
  },
  {
   "cell_type": "code",
   "execution_count": 4,
   "id": "f63e84ed-22e6-4150-aee5-b0e2b23557ea",
   "metadata": {},
   "outputs": [
    {
     "name": "stdout",
     "output_type": "stream",
     "text": [
      "e\n"
     ]
    }
   ],
   "source": [
    "def find_the_difference(word,letter):\n",
    "    return letter[-1]\n",
    "\n",
    "print(find_the_difference(\"abcd\",'abcde'))"
   ]
  },
  {
   "cell_type": "markdown",
   "id": "5d28ad4f-f780-4299-b5de-6368d2f849bd",
   "metadata": {},
   "source": [
    "# Q2"
   ]
  },
  {
   "cell_type": "code",
   "execution_count": 7,
   "id": "21dfc952-b50b-4966-a7fc-bed5496c4336",
   "metadata": {},
   "outputs": [
    {
     "name": "stdout",
     "output_type": "stream",
     "text": [
      "[2, 1, 1, 0, 0, 0]\n",
      "[3, 0, 0, 1, 1, 0]\n"
     ]
    }
   ],
   "source": [
    "def count_datatypes(*args):\n",
    "    int_c = 0\n",
    "    str_c = 0\n",
    "    bool_c = 0\n",
    "    list_c = 0\n",
    "    tuple_c = 0\n",
    "    dict_c = 0\n",
    "    for i in args:\n",
    "        if type(i) == int:\n",
    "            int_c+=1\n",
    "        elif type(i) == str:\n",
    "            str_c+=1\n",
    "        elif type(i)==bool:\n",
    "            bool_c+=1\n",
    "        elif type(i)==list:\n",
    "            list_c+=1\n",
    "        elif type(i) == tuple:\n",
    "            tuple_c+=1\n",
    "        elif type(i) == dict:\n",
    "            dict_c+=1\n",
    "    return [int_c, str_c, bool_c, list_c, tuple_c, dict_c]\n",
    "\n",
    "print(count_datatypes(1,45,'hi',False))\n",
    "print(count_datatypes([1],(45,1),2,3,1))\n",
    "    "
   ]
  },
  {
   "cell_type": "markdown",
   "id": "59624138-2135-476a-8a95-bec74fff7e81",
   "metadata": {},
   "source": [
    "# Q3"
   ]
  },
  {
   "cell_type": "code",
   "execution_count": 25,
   "id": "3b4b16da-5ae9-4f1c-8d48-e245f5f265cc",
   "metadata": {},
   "outputs": [
    {
     "name": "stdout",
     "output_type": "stream",
     "text": [
      "j ,h , hj\n",
      "e ,a , ae, aea, aeaae\n"
     ]
    }
   ],
   "source": [
    "def fib_str(count,ele):\n",
    "    a = ele[0]\n",
    "    b = ele[1]\n",
    "    c = ''\n",
    "    f_string = \"\"\n",
    "    f1_string = f\"{a} ,{b} \"\n",
    "    if count == 1:\n",
    "        return str(ele[0])\n",
    "    if count == 2:\n",
    "        return str(ele[0],ele[1])\n",
    "    if count > 2:\n",
    "        for i in range(0,count-2):\n",
    "            c = b+a\n",
    "            a=b\n",
    "            b=c\n",
    "            f_string = f_string+\", \"+c\n",
    "    return f1_string + f_string\n",
    "            \n",
    "            \n",
    "print(fib_str(3,['j','h']))\n",
    "print(fib_str(5,['e','a']))\n",
    "    \n",
    "    "
   ]
  },
  {
   "cell_type": "markdown",
   "id": "4213e1de-b2f6-43eb-8687-5d906d73e015",
   "metadata": {},
   "source": [
    "# Q4"
   ]
  },
  {
   "cell_type": "code",
   "execution_count": 27,
   "id": "1841a2ad-bafb-4bbe-bd57-8bc4d90dce54",
   "metadata": {},
   "outputs": [
    {
     "name": "stdout",
     "output_type": "stream",
     "text": [
      "nines:1, threes:0, ones:1\n"
     ]
    }
   ],
   "source": [
    "def ones_threes_nines(num):\n",
    "    nines = num // 9\n",
    "    threes = (num%9) // 3\n",
    "    ones = num % 3\n",
    "    return f\"nines:{nines}, threes:{threes}, ones:{ones}\"\n",
    "print(ones_threes_nines(10))"
   ]
  },
  {
   "cell_type": "markdown",
   "id": "c0130d4b-0c81-4357-a4d2-08b579efe756",
   "metadata": {},
   "source": [
    "# Q5"
   ]
  },
  {
   "cell_type": "code",
   "execution_count": 31,
   "id": "6039a41a-d519-46f6-939e-554196c91d0b",
   "metadata": {},
   "outputs": [
    {
     "name": "stdout",
     "output_type": "stream",
     "text": [
      "1\n",
      "1\n",
      "8\n"
     ]
    }
   ],
   "source": [
    "def fib(num):\n",
    "    a = 0\n",
    "    b = 1\n",
    "    c = 0\n",
    "    s = a+b\n",
    "    if num==1:\n",
    "        return 1\n",
    "    elif num==2:\n",
    "        return 1\n",
    "    else:\n",
    "        for i in range(0,num-1):\n",
    "            c = a+b\n",
    "            a=b\n",
    "            b=c\n",
    "            s=+c\n",
    "        return s\n",
    "print(fib(1))\n",
    "print(fib(2))\n",
    "print(fib(6))\n",
    "            \n",
    "    "
   ]
  },
  {
   "cell_type": "code",
   "execution_count": null,
   "id": "b75f3265-cc49-457f-882d-452eca7db817",
   "metadata": {},
   "outputs": [],
   "source": []
  }
 ],
 "metadata": {
  "kernelspec": {
   "display_name": "Python 3 (ipykernel)",
   "language": "python",
   "name": "python3"
  },
  "language_info": {
   "codemirror_mode": {
    "name": "ipython",
    "version": 3
   },
   "file_extension": ".py",
   "mimetype": "text/x-python",
   "name": "python",
   "nbconvert_exporter": "python",
   "pygments_lexer": "ipython3",
   "version": "3.8.0"
  }
 },
 "nbformat": 4,
 "nbformat_minor": 5
}
