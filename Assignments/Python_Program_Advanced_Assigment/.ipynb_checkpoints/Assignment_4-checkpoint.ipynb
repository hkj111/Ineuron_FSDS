{
 "cells": [
  {
   "cell_type": "markdown",
   "id": "f626e36d-972b-46d1-b296-3946124904f8",
   "metadata": {},
   "source": [
    "# Q1"
   ]
  },
  {
   "cell_type": "code",
   "execution_count": 6,
   "id": "941b91f8-2091-464a-8712-61ef0f386593",
   "metadata": {},
   "outputs": [],
   "source": [
    "def fib_fast(num):\n",
    "    \n",
    "    a = 0\n",
    "    b = 1\n",
    "    for i in range(num-1):\n",
    "        c = a+b\n",
    "        a=b\n",
    "        b=c\n",
    "        f = c\n",
    "    return f"
   ]
  },
  {
   "cell_type": "code",
   "execution_count": 9,
   "id": "a733c44c-e227-4d24-8b02-9bbb02b90387",
   "metadata": {},
   "outputs": [
    {
     "data": {
      "text/plain": [
       "12586269025"
      ]
     },
     "execution_count": 9,
     "metadata": {},
     "output_type": "execute_result"
    }
   ],
   "source": [
    "fib_fast(50)"
   ]
  },
  {
   "cell_type": "markdown",
   "id": "322c5218-0a69-497a-b63c-c3ee0c4f1da7",
   "metadata": {},
   "source": [
    "# Q2"
   ]
  },
  {
   "cell_type": "code",
   "execution_count": 16,
   "id": "64719bda-3347-46ca-ad54-f0a492382a2d",
   "metadata": {},
   "outputs": [],
   "source": [
    "def convert_to_hex(word):\n",
    "    hex_string = ''\n",
    "    for i in word:\n",
    "        hex_string = hex_string+\" \"+hex(ord(i))\n",
    "    return hex_string.strip().replace('0x','')"
   ]
  },
  {
   "cell_type": "code",
   "execution_count": 17,
   "id": "bd887300-a711-4ea2-a216-c2a8f9d5860b",
   "metadata": {},
   "outputs": [
    {
     "data": {
      "text/plain": [
       "'68 65 6c 6c 6f 20 77 6f 72 6c 64'"
      ]
     },
     "execution_count": 17,
     "metadata": {},
     "output_type": "execute_result"
    }
   ],
   "source": [
    "convert_to_hex(\"hello world\")"
   ]
  },
  {
   "cell_type": "markdown",
   "id": "b60896af-ba7b-42b0-8fee-f78b58d138fa",
   "metadata": {},
   "source": [
    "# Q3"
   ]
  },
  {
   "cell_type": "code",
   "execution_count": 19,
   "id": "5d43afb6-172a-44fa-9497-498dd3ea65b4",
   "metadata": {},
   "outputs": [],
   "source": [
    "def uncensor(string,vowels):\n",
    "    flag = 0\n",
    "    updated_string = ''\n",
    "    for i in string:\n",
    "        if i == \"*\":\n",
    "            updated_string = updated_string+vowels[flag]\n",
    "            flag = flag+1\n",
    "        else:\n",
    "            updated_string = updated_string+i\n",
    "        \n",
    "    return updated_string\n",
    "        \n",
    "        \n",
    "    "
   ]
  },
  {
   "cell_type": "code",
   "execution_count": 20,
   "id": "9ffd8edb-4653-4c55-8534-f2afe73a5d42",
   "metadata": {},
   "outputs": [
    {
     "data": {
      "text/plain": [
       "'Where did my vowels go'"
      ]
     },
     "execution_count": 20,
     "metadata": {},
     "output_type": "execute_result"
    }
   ],
   "source": [
    "uncensor(\"Wh*r* d*d my v*w*ls g*\",'eeioeo')"
   ]
  },
  {
   "cell_type": "markdown",
   "id": "3318a913-63c3-46c4-9891-34aba4602161",
   "metadata": {},
   "source": [
    "# Q4"
   ]
  },
  {
   "cell_type": "code",
   "execution_count": 23,
   "id": "9982cb4e-3085-471e-9dbe-459a0cd99784",
   "metadata": {},
   "outputs": [],
   "source": [
    "import socket\n",
    "def get_domain(ip_address):\n",
    "  result=socket.gethostbyaddr(ip_address)\n",
    "  return list(result)[0]\n"
   ]
  },
  {
   "cell_type": "code",
   "execution_count": 24,
   "id": "9d4f33fe-ec30-459f-9531-1e9724aa75a6",
   "metadata": {},
   "outputs": [
    {
     "name": "stdout",
     "output_type": "stream",
     "text": [
      "dns.google\n",
      "dns.google\n"
     ]
    }
   ],
   "source": [
    "print(get_domain(\"8.8.8.8\"))\n",
    "print(get_domain(\"8.8.4.4\"))"
   ]
  },
  {
   "cell_type": "markdown",
   "id": "42c128dd-0733-4ae5-8a68-5543e7e344cc",
   "metadata": {},
   "source": [
    "# Q5"
   ]
  },
  {
   "cell_type": "code",
   "execution_count": 29,
   "id": "cd2d38ff-3721-4467-9a7f-2df3c479c2d7",
   "metadata": {},
   "outputs": [],
   "source": [
    "def fact_of_fact(num):\n",
    "    f_o_f = 1\n",
    "    for i in range(1,num+1):\n",
    "        f_o_f*=factorial(i)\n",
    "    return(f_o_f)\n",
    "           \n",
    "    \n",
    "def factorial(n):\n",
    "    if n==0 or n==1:\n",
    "        return 1\n",
    "    fact = n*factorial(n-1)\n",
    "    return fact"
   ]
  },
  {
   "cell_type": "code",
   "execution_count": 30,
   "id": "03378a43-31c5-469a-a19d-0c50c55b7566",
   "metadata": {},
   "outputs": [
    {
     "name": "stdout",
     "output_type": "stream",
     "text": [
      "288\n",
      "34560\n",
      "24883200\n"
     ]
    }
   ],
   "source": [
    "print(fact_of_fact(4))\n",
    "print(fact_of_fact(5))\n",
    "print(fact_of_fact(6))"
   ]
  },
  {
   "cell_type": "code",
   "execution_count": null,
   "id": "ace3428c-d5b3-4fb5-8e93-671c9d1abe1d",
   "metadata": {},
   "outputs": [],
   "source": []
  }
 ],
 "metadata": {
  "kernelspec": {
   "display_name": "Python 3 (ipykernel)",
   "language": "python",
   "name": "python3"
  },
  "language_info": {
   "codemirror_mode": {
    "name": "ipython",
    "version": 3
   },
   "file_extension": ".py",
   "mimetype": "text/x-python",
   "name": "python",
   "nbconvert_exporter": "python",
   "pygments_lexer": "ipython3",
   "version": "3.8.0"
  }
 },
 "nbformat": 4,
 "nbformat_minor": 5
}
