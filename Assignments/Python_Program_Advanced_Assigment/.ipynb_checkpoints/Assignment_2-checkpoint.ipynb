{
 "cells": [
  {
   "cell_type": "markdown",
   "id": "0e6413ac-d981-4a7a-9e05-a878d8e2ca08",
   "metadata": {},
   "source": [
    "# Q1"
   ]
  },
  {
   "cell_type": "code",
   "execution_count": 57,
   "id": "3f2a2966-863f-48e9-8211-93984f1cabff",
   "metadata": {},
   "outputs": [],
   "source": [
    "def pentagonal(num):\n",
    "    side_num=0\n",
    "    if num<0:\n",
    "        return \"Please pass a positive integer\"\n",
    "    side = 1\n",
    "    if num == 1:\n",
    "        return 1\n",
    "    for i in range(0,num):\n",
    "        side = side + i*5\n",
    "    return side\n",
    "        "
   ]
  },
  {
   "cell_type": "code",
   "execution_count": 58,
   "id": "dbe6fede-dadc-4099-976a-a8b30398dab0",
   "metadata": {},
   "outputs": [
    {
     "data": {
      "text/plain": [
       "141"
      ]
     },
     "execution_count": 58,
     "metadata": {},
     "output_type": "execute_result"
    }
   ],
   "source": [
    "pentagonal(8)"
   ]
  },
  {
   "cell_type": "markdown",
   "id": "5753720b-62b7-4e6a-948a-4119a47c8be0",
   "metadata": {},
   "source": [
    "# Q2"
   ]
  },
  {
   "cell_type": "code",
   "execution_count": 67,
   "id": "de216db3-c830-4b20-ac23-e0f68e8f6caf",
   "metadata": {},
   "outputs": [],
   "source": [
    "def encrypt(word):\n",
    "    word = word[::-1].lower()\n",
    "    dict1 = {'a':0,'e':1,'i':2,'o':2,'u':3}\n",
    "    for i in word:\n",
    "        try:\n",
    "           word = word.replace(i,str(dict1[i]))\n",
    "        except:pass\n",
    "    return word+\"aca\"\n",
    "    "
   ]
  },
  {
   "cell_type": "code",
   "execution_count": 68,
   "id": "09f1552c-f222-4a13-b9c7-e4ba80290e70",
   "metadata": {},
   "outputs": [
    {
     "data": {
      "text/plain": [
       "'n0n0n0baca'"
      ]
     },
     "execution_count": 68,
     "metadata": {},
     "output_type": "execute_result"
    }
   ],
   "source": [
    "encrypt('bananan')"
   ]
  },
  {
   "cell_type": "markdown",
   "id": "31761de2-0187-448d-bfed-65a73b8cfc5f",
   "metadata": {},
   "source": [
    "# Q3"
   ]
  },
  {
   "cell_type": "code",
   "execution_count": 74,
   "id": "d856c278-4d37-4051-8996-1bd583ecce1f",
   "metadata": {},
   "outputs": [],
   "source": [
    "import datetime\n",
    "def has_friday_13(month,year):\n",
    "    day = datetime.datetime(year, month, 13)\n",
    "    if day.strftime(\"%A\") == 'Friday':\n",
    "        return True\n",
    "    else:\n",
    "        return False\n",
    "    # return now.strftime(\"%A\")\n",
    "    "
   ]
  },
  {
   "cell_type": "code",
   "execution_count": 75,
   "id": "52ae100d-3d55-451f-9bff-6eed1b2a0d1b",
   "metadata": {},
   "outputs": [
    {
     "name": "stdout",
     "output_type": "stream",
     "text": [
      "True\n",
      "True\n",
      "False\n"
     ]
    }
   ],
   "source": [
    "print(has_friday_13(3,2020))\n",
    "print(has_friday_13(10,2017))\n",
    "print(has_friday_13(1,1985))"
   ]
  },
  {
   "cell_type": "markdown",
   "id": "55a5a9bc-af58-464d-b46c-af56ed949342",
   "metadata": {},
   "source": [
    "# Q4"
   ]
  },
  {
   "cell_type": "code",
   "execution_count": 86,
   "id": "d79d019b-3288-4092-95c8-960a0ad87cc3",
   "metadata": {},
   "outputs": [],
   "source": [
    "import re\n",
    "def regex(lst):\n",
    "    pattern = r\"(?<=bad cookie)\"\n",
    "    return len(re.findall(pattern,\",\".join(lst)))\n",
    "    "
   ]
  },
  {
   "cell_type": "code",
   "execution_count": 87,
   "id": "f5729718-8a0d-4a8b-8ab6-8858d7db7815",
   "metadata": {},
   "outputs": [
    {
     "data": {
      "text/plain": [
       "2"
      ]
     },
     "execution_count": 87,
     "metadata": {},
     "output_type": "execute_result"
    }
   ],
   "source": [
    "lst = ['bad cookie','good cookie','bad cookie','good cookie']\n",
    "regex(lst)"
   ]
  },
  {
   "cell_type": "markdown",
   "id": "58d2d780-2f34-42c9-a35b-f8728227c974",
   "metadata": {},
   "source": [
    "# Q5"
   ]
  },
  {
   "cell_type": "code",
   "execution_count": 88,
   "id": "82709da3-9ed2-4159-b977-4b2fa01f52ee",
   "metadata": {},
   "outputs": [],
   "source": [
    "def pluralize(lst):\n",
    "    return set(lst)"
   ]
  },
  {
   "cell_type": "code",
   "execution_count": 89,
   "id": "e3e4c281-3b85-41af-825a-3baa0933867c",
   "metadata": {},
   "outputs": [
    {
     "data": {
      "text/plain": [
       "{'cow', 'pig'}"
      ]
     },
     "execution_count": 89,
     "metadata": {},
     "output_type": "execute_result"
    }
   ],
   "source": [
    "pluralize(['cow','pig','cow','cow'])"
   ]
  },
  {
   "cell_type": "code",
   "execution_count": null,
   "id": "9a2393f1-88a0-45d9-a25b-593dc239633a",
   "metadata": {},
   "outputs": [],
   "source": []
  }
 ],
 "metadata": {
  "kernelspec": {
   "display_name": "Python 3 (ipykernel)",
   "language": "python",
   "name": "python3"
  },
  "language_info": {
   "codemirror_mode": {
    "name": "ipython",
    "version": 3
   },
   "file_extension": ".py",
   "mimetype": "text/x-python",
   "name": "python",
   "nbconvert_exporter": "python",
   "pygments_lexer": "ipython3",
   "version": "3.8.0"
  }
 },
 "nbformat": 4,
 "nbformat_minor": 5
}
