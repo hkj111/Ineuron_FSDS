{
 "cells": [
  {
   "cell_type": "markdown",
   "id": "ae00f413-d3f3-4ffa-969e-90f886fb65d9",
   "metadata": {},
   "source": [
    "# Q1"
   ]
  },
  {
   "cell_type": "code",
   "execution_count": 7,
   "id": "d274b763-6894-458b-ac10-626183d51aea",
   "metadata": {},
   "outputs": [
    {
     "name": "stdout",
     "output_type": "stream",
     "text": [
      "[7, 3, 11]\n",
      "[10007, 1009]\n",
      "[1009, 3, 61, 1087, 1091, 1093, 1097]\n"
     ]
    }
   ],
   "source": [
    "from math import sqrt\n",
    "def filter_primes(lst):\n",
    "    final_list = []\n",
    "    for i in lst:\n",
    "        if prime(i)==True:\n",
    "            final_list.append(i)\n",
    "    return final_list\n",
    "        \n",
    "def prime(n):\n",
    "    flag = 0\n",
    "\n",
    "    if(n > 1):\n",
    "        for k in range(2, int(sqrt(n)) + 1):\n",
    "            if (n % k == 0):\n",
    "                flag = 1\n",
    "                break\n",
    "        if (flag == 0):\n",
    "            return True\n",
    "        else:\n",
    "            return False\n",
    "    else:\n",
    "        return False\n",
    "print(filter_primes([7, 9, 3, 9, 10, 11, 27]))\n",
    "print(filter_primes([10007, 1009, 1007, 27, 147, 77, 1001, 70]))\n",
    "print(filter_primes([1009, 10, 10, 10, 3, 33, 9, 4, 1, 61, 63, 69, 1087, 1091, 1093,\n",
    "1097]))"
   ]
  },
  {
   "cell_type": "markdown",
   "id": "b53b9f22-b0d2-4789-9f4c-2dc151c01861",
   "metadata": {},
   "source": [
    "# Q2"
   ]
  },
  {
   "cell_type": "code",
   "execution_count": 25,
   "id": "bfd04683-f8cf-4c98-9fb8-db0fca3632c8",
   "metadata": {},
   "outputs": [
    {
     "name": "stdout",
     "output_type": "stream",
     "text": [
      "[0, 1, 2, 3, 4, 3, 2, 1, 0]\n",
      "[0, 1, 2, 3, 2, 1, 0]\n",
      "[0, 1, 2, 1, 0]\n",
      "[0]\n"
     ]
    }
   ],
   "source": [
    "def pop(lst):\n",
    "    if len(lst)==1:\n",
    "        return lst\n",
    "    a = lst[(len(lst)+1)//2]\n",
    "    final_list = []\n",
    "    for i in range(len(lst)):\n",
    "        if i < (len(lst)+1)//2:\n",
    "            final_list.append(i)\n",
    "        elif i == (len(lst)+1)//2:\n",
    "            final_list.append(i-2)\n",
    "        elif i > (len(lst)+1)//2:\n",
    "            final_list.append(abs(i-len(lst)+1))\n",
    "    return final_list\n",
    "                              \n",
    "print(pop([0, 0, 0, 0, 4, 0, 0, 0, 0]))\n",
    "print(pop([0, 0, 0, 3, 0, 0, 0]))\n",
    "print(pop([0, 0, 2, 0, 0]))\n",
    "print(pop([0]))"
   ]
  },
  {
   "cell_type": "markdown",
   "id": "0e4a8cff-9aab-4629-8880-77366922fb16",
   "metadata": {},
   "source": [
    "# Q3"
   ]
  },
  {
   "cell_type": "code",
   "execution_count": 31,
   "id": "6d49ca58-bfb9-4388-8e26-9bd6f88e3b7c",
   "metadata": {},
   "outputs": [
    {
     "name": "stdout",
     "output_type": "stream",
     "text": [
      "Loves me, Loves me not, LOVES ME\n",
      "Loves me, Loves me not, Loves me, Loves me not, Loves me, LOVES ME NOT\n",
      "LOVES ME\n"
     ]
    }
   ],
   "source": [
    "def loves_me(n):\n",
    "    s=\"\"\n",
    "    for i in range(1,n+1):\n",
    "        if i%2==0:\n",
    "            if i==n:\n",
    "                s=s+' '+'LOVES ME NOT'\n",
    "            else:\n",
    "                s=s+' '+'Loves me not,'\n",
    "        else:\n",
    "            if i==n:\n",
    "                s=s+' '+'LOVES ME'\n",
    "            else:\n",
    "                s=s+' '+'Loves me,'\n",
    "    return s.strip()\n",
    "print(loves_me(3))\n",
    "print(loves_me(6))\n",
    "print(loves_me(1))\n",
    "        "
   ]
  },
  {
   "cell_type": "markdown",
   "id": "96a16b44-439b-40d5-b362-fc9277611cea",
   "metadata": {},
   "source": [
    "# Q4"
   ]
  },
  {
   "cell_type": "code",
   "execution_count": 34,
   "id": "8f188aa0-b050-4a48-b638-07c9709a5c69",
   "metadata": {},
   "outputs": [
    {
     "name": "stdout",
     "output_type": "stream",
     "text": [
      "['2344b', '832u32', '932c']\n"
     ]
    }
   ],
   "source": [
    "def sort_by_letter(lst):\n",
    "    lst.sort()\n",
    "    return lst\n",
    "print(sort_by_letter(['932c', '832u32', '2344b']))"
   ]
  },
  {
   "cell_type": "markdown",
   "id": "889ee75b-e254-4b0e-b2d8-5b9aa1b0eb44",
   "metadata": {},
   "source": [
    "# Q5"
   ]
  },
  {
   "cell_type": "code",
   "execution_count": 37,
   "id": "92f1e3b0-8237-476e-bd4e-2b6ee94587af",
   "metadata": {},
   "outputs": [
    {
     "name": "stdout",
     "output_type": "stream",
     "text": [
      "C\n"
     ]
    }
   ],
   "source": [
    "def cup_swapping(lst):\n",
    "    a = 'B'\n",
    "    for i in lst:\n",
    "        if a in i:\n",
    "            if a == i[0]:\n",
    "                a = i[1]\n",
    "            else:\n",
    "                a = i[0]\n",
    "    return a\n",
    "print(cup_swapping(['AB','CA','AB']))"
   ]
  },
  {
   "cell_type": "code",
   "execution_count": null,
   "id": "c152fe37-3325-465b-ac42-17bcf6fffc5c",
   "metadata": {},
   "outputs": [],
   "source": []
  }
 ],
 "metadata": {
  "kernelspec": {
   "display_name": "Python 3 (ipykernel)",
   "language": "python",
   "name": "python3"
  },
  "language_info": {
   "codemirror_mode": {
    "name": "ipython",
    "version": 3
   },
   "file_extension": ".py",
   "mimetype": "text/x-python",
   "name": "python",
   "nbconvert_exporter": "python",
   "pygments_lexer": "ipython3",
   "version": "3.8.0"
  }
 },
 "nbformat": 4,
 "nbformat_minor": 5
}
