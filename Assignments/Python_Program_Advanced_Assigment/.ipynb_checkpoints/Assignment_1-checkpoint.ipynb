{
 "cells": [
  {
   "cell_type": "markdown",
   "id": "179648bf-36c8-4df2-bba5-677d375a51f8",
   "metadata": {},
   "source": [
    "# Q1"
   ]
  },
  {
   "cell_type": "code",
   "execution_count": 2,
   "id": "1c348c57-0b42-411b-ad15-968effd4fc4e",
   "metadata": {},
   "outputs": [],
   "source": [
    "def symbol_score(l):\n",
    "    \"\"\"\n",
    "    Calculates the score of the symbol based on their values\n",
    "    Return the score.\n",
    "    \"\"\"\n",
    "    dict1 = {\n",
    "        \"#\":5,\n",
    "        \"O\":3,\n",
    "        \"X\":1,\n",
    "        \"!\":-1,\n",
    "        \"!!\":-3,\n",
    "        \"!!!\":-5\n",
    "    }\n",
    "    sum_score = 0\n",
    "    for i in l:\n",
    "        for j in i:\n",
    "            sum_score = sum_score+dict1[j]\n",
    "    return sum_score"
   ]
  },
  {
   "cell_type": "code",
   "execution_count": 3,
   "id": "faaa87d5-b2f8-4ab7-9c5a-65ef13501790",
   "metadata": {},
   "outputs": [
    {
     "data": {
      "text/plain": [
       "2"
      ]
     },
     "execution_count": 3,
     "metadata": {},
     "output_type": "execute_result"
    }
   ],
   "source": [
    "symbol_score([['#','!'],['!!','X']])"
   ]
  },
  {
   "cell_type": "markdown",
   "id": "4dd2dc03-821f-4795-80a8-f51fd2e99ec8",
   "metadata": {},
   "source": [
    "# Q2"
   ]
  },
  {
   "cell_type": "code",
   "execution_count": 22,
   "id": "0a3f80b5-7198-451f-bb8f-5031262988b2",
   "metadata": {},
   "outputs": [],
   "source": [
    "def pnc(*args):\n",
    "    final_combinations = 1\n",
    "    for i in args:\n",
    "        final_combinations = final_combinations*combinations(i)\n",
    "    return final_combinations\n",
    "    \n",
    "\n",
    "def combinations(n):\n",
    "    r = 1\n",
    "    combinations = (factorial(n))/(factorial(r)*factorial(n-r))\n",
    "    return combinations\n",
    "def factorial(num):\n",
    "    if num == 1:\n",
    "        return 1\n",
    "    if num == 0:\n",
    "        return 1\n",
    "    fact = num*factorial(num-1)\n",
    "    return fact\n",
    "    "
   ]
  },
  {
   "cell_type": "code",
   "execution_count": 24,
   "id": "d3608a6f-0120-4c06-ab7b-1e093e922f66",
   "metadata": {},
   "outputs": [
    {
     "name": "stdout",
     "output_type": "stream",
     "text": [
      "6.0\n",
      "24.0\n",
      "120.0\n"
     ]
    }
   ],
   "source": [
    "print(pnc(2,3))\n",
    "print(pnc(2,3,4))\n",
    "print(pnc(2,3,4,5))"
   ]
  },
  {
   "cell_type": "markdown",
   "id": "aba35913-1f1a-4179-9c66-8f0cd58b7247",
   "metadata": {},
   "source": [
    "# Q3"
   ]
  },
  {
   "cell_type": "code",
   "execution_count": 34,
   "id": "d43d2979-9944-4951-9e0a-c438e42e5f3b",
   "metadata": {},
   "outputs": [],
   "source": [
    "def encode_morse(string):\n",
    "    char_to_dots = {\n",
    "        'A': '.-', 'B': '-...', 'C': '-.-.', 'D': '-..', 'E': '.', 'F': '..-.',\n",
    "        'G': '--.', 'H': '....', 'I': '..', 'J': '.---', 'K': '-.-', 'L': '.-..',\n",
    "        'M': '--', 'N': '-.', 'O': '---', 'P': '.--.', 'Q': '--.-', 'R': '.-.',\n",
    "        'S': '...', 'T': '-', 'U': '..-', 'V': '...-', 'W': '.--', 'X': '-..-',\n",
    "        'Y': '-.--', 'Z': '--..', ' ': ' ', '0': '-----',\n",
    "        '1': '.----', '2': '..---', '3': '...--', '4': '....-', '5': '.....',\n",
    "        '6': '-....', '7': '--...', '8': '---..', '9': '----.',\n",
    "        '&': '.-...', \"'\": '.----.', '@': '.--.-.', ')': '-.--.-', '(': '-.--.',\n",
    "        ':': '---...', ',': '--..--', '=': '-...-', '!': '-.-.--', '.': '.-.-.-',\n",
    "        '-': '-....-', '+': '.-.-.', '\"': '.-..-.', '?': '..--..', '/': '-..-.'\n",
    "        }\n",
    "    morse_string = ''\n",
    "    for i in string:\n",
    "        morse_string = morse_string+\" \"+char_to_dots[i]\n",
    "        \n",
    "    return morse_string.strip()\n",
    "    "
   ]
  },
  {
   "cell_type": "code",
   "execution_count": 35,
   "id": "f4178b23-8ed8-419a-8fc4-ded7a28435ab",
   "metadata": {},
   "outputs": [
    {
     "data": {
      "text/plain": [
       "'.... . .-.. .--.   -- . -.-.--'"
      ]
     },
     "execution_count": 35,
     "metadata": {},
     "output_type": "execute_result"
    }
   ],
   "source": [
    "encode_morse(\"HELP ME!\")"
   ]
  },
  {
   "cell_type": "markdown",
   "id": "ba771b05-c377-4361-8cc9-5152bfb8a32e",
   "metadata": {},
   "source": [
    "# Q4"
   ]
  },
  {
   "cell_type": "code",
   "execution_count": 36,
   "id": "4056cd8f-a59f-4d18-98d0-04e68f303078",
   "metadata": {},
   "outputs": [],
   "source": [
    "import math\n",
    "def is_prime(n):\n",
    "  for i in range(2,int(math.sqrt(n))+1):\n",
    "    if (n%i) == 0:\n",
    "      return False\n",
    "  return True"
   ]
  },
  {
   "cell_type": "code",
   "execution_count": 38,
   "id": "7fcfd082-316f-4f7b-b089-d5077b3a1a03",
   "metadata": {},
   "outputs": [
    {
     "data": {
      "text/plain": [
       "False"
      ]
     },
     "execution_count": 38,
     "metadata": {},
     "output_type": "execute_result"
    }
   ],
   "source": [
    "is_prime(5151512515524)"
   ]
  },
  {
   "cell_type": "markdown",
   "id": "1694c056-a2c8-4c74-b628-351ee4556f3c",
   "metadata": {},
   "source": [
    "# Q5"
   ]
  },
  {
   "cell_type": "code",
   "execution_count": 5,
   "id": "092e8c2f-8482-486c-bd9b-825ae475e6d4",
   "metadata": {},
   "outputs": [],
   "source": [
    "def to_boolean_list(word):\n",
    "    dict1 = {\n",
    "    'a':1,'b':0,'c':1,'d':0,'e':1,'f':0,'g':1,'h':0,'i':1,'j':0,'k':1,'l':0,'m':1,'n':0,'o':1,'p':0,'q':1,'r':0,'s':1,'t':0,'u':1,'v':0,'w':1,'x':0,'y':1,'z':0\n",
    "    }\n",
    "    bool_array = []\n",
    "    for i in word:\n",
    "        if dict1[i] == 1:\n",
    "            bool_array.append(True)\n",
    "        elif dict1[i]==0:\n",
    "            bool_array.append(False)\n",
    "            \n",
    "    return bool_array\n",
    "        "
   ]
  },
  {
   "cell_type": "code",
   "execution_count": 6,
   "id": "747ef16c-22c9-4040-b85c-162fc8518a98",
   "metadata": {},
   "outputs": [
    {
     "data": {
      "text/plain": [
       "[False, True, True, False]"
      ]
     },
     "execution_count": 6,
     "metadata": {},
     "output_type": "execute_result"
    }
   ],
   "source": [
    "to_boolean_list('deep')"
   ]
  },
  {
   "cell_type": "code",
   "execution_count": null,
   "id": "94e50cd5-9cc9-4f7b-9c51-24b20ce7e191",
   "metadata": {},
   "outputs": [],
   "source": []
  }
 ],
 "metadata": {
  "kernelspec": {
   "display_name": "Python 3 (ipykernel)",
   "language": "python",
   "name": "python3"
  },
  "language_info": {
   "codemirror_mode": {
    "name": "ipython",
    "version": 3
   },
   "file_extension": ".py",
   "mimetype": "text/x-python",
   "name": "python",
   "nbconvert_exporter": "python",
   "pygments_lexer": "ipython3",
   "version": "3.8.0"
  }
 },
 "nbformat": 4,
 "nbformat_minor": 5
}
