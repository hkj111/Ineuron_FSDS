{
 "cells": [
  {
   "cell_type": "markdown",
   "id": "2047d380-875e-4a6a-bd99-6733d8eaa5ef",
   "metadata": {},
   "source": [
    "# Q1"
   ]
  },
  {
   "cell_type": "code",
   "execution_count": 12,
   "id": "a016fa2e-6f6d-47a0-bff3-e7a23480dff3",
   "metadata": {},
   "outputs": [
    {
     "name": "stdout",
     "output_type": "stream",
     "text": [
      "1103\n",
      "515\n",
      "31499\n"
     ]
    }
   ],
   "source": [
    "def meme_sum(n1,n2):\n",
    "    n1=str(n1)\n",
    "    n2=str(n2)\n",
    "    if len(n1)>len(n2):\n",
    "        n2 = \"0\"*(len(n1)-len(n2))+n2\n",
    "    elif len(n2)>len(n1):\n",
    "        n1 = \"0\"*(len(n2)-len(n1))+n1\n",
    "    s=\"\"\n",
    "    for i in range(len(n1)):\n",
    "        s1 = int(n1[i])+int(n2[i])\n",
    "        s+=str(s1)\n",
    "    print(s)\n",
    "        \n",
    "        \n",
    "meme_sum(122,81)\n",
    "meme_sum(26,39)\n",
    "meme_sum(1222, 30277)"
   ]
  },
  {
   "cell_type": "markdown",
   "id": "8acf8f73-1f56-463f-aa12-18ca1d129219",
   "metadata": {},
   "source": [
    "# Q2"
   ]
  },
  {
   "cell_type": "code",
   "execution_count": 16,
   "id": "4345ec2b-5c5b-4452-a5ba-72fb1f03b1c6",
   "metadata": {},
   "outputs": [
    {
     "data": {
      "text/plain": [
       "11"
      ]
     },
     "execution_count": 16,
     "metadata": {},
     "output_type": "execute_result"
    }
   ],
   "source": [
    "from math import sqrt\n",
    "def next_prime(n):\n",
    "    if prime(n)==True:\n",
    "        return n\n",
    "    else:\n",
    "        while prime(n)!=True:\n",
    "            n=n+1\n",
    "        return n\n",
    "\n",
    "def prime(n):\n",
    "    flag = 0\n",
    "\n",
    "    if(n > 1):\n",
    "        for k in range(2, int(sqrt(n)) + 1):\n",
    "            if (n % k == 0):\n",
    "                flag = 1\n",
    "                break\n",
    "        if (flag == 0):\n",
    "            return True\n",
    "        else:\n",
    "            return False\n",
    "    else:\n",
    "        return False\n",
    "next_prime(8)"
   ]
  },
  {
   "cell_type": "markdown",
   "id": "3514af3e-c6ea-4669-a71a-be76283fb457",
   "metadata": {},
   "source": [
    "# Q3"
   ]
  },
  {
   "cell_type": "code",
   "execution_count": null,
   "id": "9969c4c9-4794-4b2e-a01c-fdee71b2435f",
   "metadata": {},
   "outputs": [],
   "source": [
    "def ave_speed(m,u,d):\n",
    "    \n",
    "    "
   ]
  },
  {
   "cell_type": "markdown",
   "id": "3be5a67c-c41c-417b-9223-2ea6749adefe",
   "metadata": {},
   "source": []
  },
  {
   "cell_type": "code",
   "execution_count": null,
   "id": "95e4ebe1-f711-4713-b0a4-799586320100",
   "metadata": {},
   "outputs": [],
   "source": []
  },
  {
   "cell_type": "markdown",
   "id": "28db60c6-e07f-4f57-8e4f-ed6f10619451",
   "metadata": {},
   "source": []
  },
  {
   "cell_type": "code",
   "execution_count": null,
   "id": "5e4cda50-4003-4547-9b1f-a66912e475df",
   "metadata": {},
   "outputs": [],
   "source": []
  }
 ],
 "metadata": {
  "kernelspec": {
   "display_name": "Python 3 (ipykernel)",
   "language": "python",
   "name": "python3"
  },
  "language_info": {
   "codemirror_mode": {
    "name": "ipython",
    "version": 3
   },
   "file_extension": ".py",
   "mimetype": "text/x-python",
   "name": "python",
   "nbconvert_exporter": "python",
   "pygments_lexer": "ipython3",
   "version": "3.8.0"
  }
 },
 "nbformat": 4,
 "nbformat_minor": 5
}
