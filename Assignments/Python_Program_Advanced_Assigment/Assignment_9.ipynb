{
 "cells": [
  {
   "cell_type": "markdown",
   "id": "03177bdb-9428-4869-9d0d-950f91f4d685",
   "metadata": {},
   "source": [
    "# Q1"
   ]
  },
  {
   "cell_type": "code",
   "execution_count": 3,
   "id": "89c9f717-9b6f-45f5-ba65-d1ba71a0952b",
   "metadata": {},
   "outputs": [
    {
     "name": "stdout",
     "output_type": "stream",
     "text": [
      "0:30:0\n",
      "1:20:0\n",
      "51:20:9\n"
     ]
    }
   ],
   "source": [
    "from datetime import timedelta\n",
    "def playback_duration(time,ps):\n",
    "    hh, mm, ss = time.split(':')\n",
    "    seconds = int(hh) * 3600 + int(mm) * 60 + int(ss)\n",
    "    final_seconds = seconds/ps\n",
    "    mm, ss = divmod(seconds, 60)\n",
    "    hh, mm= divmod(mm, 60)\n",
    "    return f\"{hh}:{mm}:{ss}\"\n",
    "\n",
    "print(playback_duration('00:30:00',2))\n",
    "print(playback_duration('01:20:00',1.5))\n",
    "print(playback_duration('51:20:09',0.5))"
   ]
  },
  {
   "cell_type": "markdown",
   "id": "854fd277-6168-415f-91c5-77742a1f88a3",
   "metadata": {},
   "source": [
    "# Q2"
   ]
  },
  {
   "cell_type": "code",
   "execution_count": 5,
   "id": "bcba4a54-0223-4f4e-82e5-ba3523b95e92",
   "metadata": {},
   "outputs": [
    {
     "name": "stdout",
     "output_type": "stream",
     "text": [
      "45\n",
      "2022\n",
      "None\n"
     ]
    }
   ],
   "source": [
    "def pile_of_cubes(num):\n",
    "    s = 0\n",
    "    flag = 0\n",
    "    for i in range(0,num):\n",
    "        s=s+i**3\n",
    "        if s == num:\n",
    "            flag = flag+1\n",
    "            return i\n",
    "    if flag == 0:\n",
    "        return None\n",
    "print(pile_of_cubes(1071225))\n",
    "print(pile_of_cubes(4183059834009))\n",
    "print(pile_of_cubes(16))\n",
    "        "
   ]
  },
  {
   "cell_type": "markdown",
   "id": "6872cbdc-c8fd-4b07-8e48-defcfe12121c",
   "metadata": {},
   "source": [
    "# Q3"
   ]
  },
  {
   "cell_type": "code",
   "execution_count": 53,
   "id": "7c0e9779-9f2c-493a-a5c0-d2cfddd58b08",
   "metadata": {},
   "outputs": [
    {
     "name": "stdout",
     "output_type": "stream",
     "text": [
      "2\n",
      "4\n",
      "1\n",
      "-1\n"
     ]
    }
   ],
   "source": [
    "def find_fulcrum(lst):\n",
    "    flag = 0\n",
    "    for i in range(0,len(lst)):\n",
    "        if i==0:\n",
    "            a=0\n",
    "        else:\n",
    "            a = sum(lst[0:i])\n",
    "        b = sum(lst[i+1:len(lst)])\n",
    "        # print(i,a,b,lst[0:i],lst[i+1:len(lst)])\n",
    "        if a==b:\n",
    "            flag = flag+1\n",
    "            return lst[i]\n",
    "    if flag == 0:\n",
    "        return -1\n",
    "print(find_fulcrum([3, 1, 5, 2, 4, 6, -1]))\n",
    "print(find_fulcrum([1, 2, 4, 9, 10, -10, -9, 3]))\n",
    "print(find_fulcrum([9, 1, 9]))\n",
    "print(find_fulcrum([8, 8, 8, 8]))"
   ]
  },
  {
   "cell_type": "markdown",
   "id": "8fe0dd8a-c79e-459d-8bca-36ab93f73613",
   "metadata": {},
   "source": [
    "# Q4"
   ]
  },
  {
   "cell_type": "code",
   "execution_count": 65,
   "id": "c36992d3-0790-472e-88ff-0b7034415f40",
   "metadata": {},
   "outputs": [
    {
     "name": "stdout",
     "output_type": "stream",
     "text": [
      "3\n",
      "4\n",
      "0\n"
     ]
    }
   ],
   "source": [
    "def sock_merchant(lst):\n",
    "    flag = 0\n",
    "    for i in set(lst):\n",
    "        c = lst.count(i)\n",
    "        if c%2==0:\n",
    "            flag+=c/2\n",
    "        else:\n",
    "            if c>2:\n",
    "                flag+=(c-1)/2\n",
    "            \n",
    "    return int(flag)\n",
    "    \n",
    "print(sock_merchant([10, 20, 20, 10, 10, 30, 50, 10, 20]))\n",
    "print(sock_merchant([50, 20, 30, 90, 30, 20, 50, 20, 90]))\n",
    "print(sock_merchant([]))"
   ]
  },
  {
   "cell_type": "markdown",
   "id": "753e69f0-dd86-4316-a6dd-296a7f1ee305",
   "metadata": {},
   "source": [
    "# Q5"
   ]
  },
  {
   "cell_type": "code",
   "execution_count": 87,
   "id": "91144acc-cae7-4011-896e-947e35e7b7a2",
   "metadata": {},
   "outputs": [
    {
     "name": "stdout",
     "output_type": "stream",
     "text": [
      "-23\n",
      "-33\n"
     ]
    }
   ],
   "source": [
    "import re\n",
    "def negative_sum(string):\n",
    "    a = re.findall(r\"\\-[0-9][0-9]\",string)\n",
    "    s = 0\n",
    "    for i in a:\n",
    "        s -= int(i)\n",
    "    return -s\n",
    "        \n",
    "\n",
    "print(negative_sum(\"-12 13%14&-11\"))\n",
    "print(negative_sum(\"22 13%14&amp;-11-22 13 12\"))\n",
    "    "
   ]
  },
  {
   "cell_type": "code",
   "execution_count": null,
   "id": "350c6b82-f742-41ab-83dd-b9027c39d8a5",
   "metadata": {},
   "outputs": [],
   "source": []
  }
 ],
 "metadata": {
  "kernelspec": {
   "display_name": "Python 3 (ipykernel)",
   "language": "python",
   "name": "python3"
  },
  "language_info": {
   "codemirror_mode": {
    "name": "ipython",
    "version": 3
   },
   "file_extension": ".py",
   "mimetype": "text/x-python",
   "name": "python",
   "nbconvert_exporter": "python",
   "pygments_lexer": "ipython3",
   "version": "3.8.0"
  }
 },
 "nbformat": 4,
 "nbformat_minor": 5
}
