{
 "cells": [
  {
   "cell_type": "markdown",
   "id": "84c3aef3-f31f-4ed2-9a27-eeb3947b327f",
   "metadata": {},
   "source": [
    "# Q1"
   ]
  },
  {
   "cell_type": "code",
   "execution_count": 2,
   "id": "3c01b6df-2cab-438a-8719-26b0d9f4f491",
   "metadata": {},
   "outputs": [
    {
     "name": "stdout",
     "output_type": "stream",
     "text": [
      "2\n",
      "5\n"
     ]
    }
   ],
   "source": [
    "def count_layers(lst):\n",
    "    return len(set(lst))\n",
    "\n",
    "print(count_layers([\n",
    "'AAAA',\n",
    "'ABBA',\n",
    "'AAAA'\n",
    "]))\n",
    "\n",
    "print(count_layers([\n",
    "'AAAAAAAAAAA',\n",
    "'AABBBBBBBAA',\n",
    "'AABCCCCCBAA',\n",
    "'AABCAAACBAA',\n",
    "'AABCADACBAA',\n",
    "'AABCAAACBAA',\n",
    "'AABCCCCCBAA',\n",
    "'AABBBBBBBAA',\n",
    "'AAAAAAAAAAA'\n",
    "]))"
   ]
  },
  {
   "cell_type": "markdown",
   "id": "06aadcde-e898-4e26-9cd5-cb2aeb42e1eb",
   "metadata": {},
   "source": [
    "# Q2"
   ]
  },
  {
   "cell_type": "code",
   "execution_count": 6,
   "id": "a913fcc7-ba4f-4cb5-aaab-0acd0ab16692",
   "metadata": {},
   "outputs": [
    {
     "name": "stdout",
     "output_type": "stream",
     "text": [
      "9\n",
      "7\n"
     ]
    }
   ],
   "source": [
    "def unique_styles(lst):\n",
    "    f_list = []\n",
    "    for i in lst:\n",
    "        f_list.extend(i.split(','))\n",
    "    return len(set(f_list))\n",
    "\n",
    "print(unique_styles([\n",
    "'Dub,Dancehall',\n",
    "'Industrial,Heavy Metal',\n",
    "'Techno,Dubstep',\n",
    "'Synth-pop,Euro-Disco',\n",
    "'Industrial,Techno,Minimal'\n",
    "]))\n",
    "\n",
    "print(unique_styles([\n",
    "'Soul',\n",
    "'House,Folk',\n",
    "'Trance,Downtempo,Big Beat,House',\n",
    "'Deep House',\n",
    "'Soul'\n",
    "]))"
   ]
  },
  {
   "cell_type": "markdown",
   "id": "f57561eb-00d2-4365-ad5d-92bef237d7eb",
   "metadata": {},
   "source": [
    "# Q3"
   ]
  },
  {
   "cell_type": "code",
   "execution_count": 14,
   "id": "1e98a4a3-9b27-4585-a21e-03f7217bf8b0",
   "metadata": {},
   "outputs": [
    {
     "name": "stdout",
     "output_type": "stream",
     "text": [
      "True\n",
      "False\n",
      "True\n",
      "False\n"
     ]
    }
   ],
   "source": [
    "def is_prime(arr, l, r, x):\n",
    " \n",
    "    if r >= l:\n",
    "        mid = l + (r - l) // 2\n",
    " \n",
    "        if arr[mid] == x:\n",
    "            return True\n",
    "        elif arr[mid] > x:\n",
    "            return is_prime(arr, l, mid-1, x)\n",
    "        else:\n",
    "            return is_prime(arr, mid + 1, r, x)\n",
    " \n",
    "    else:\n",
    "        return False\n",
    "    \n",
    "primes =[2, 3, 5, 7, 11, 13, 17, 19, 23, 29, 31, 37, 41, 43, 47, 53, 59, 61, 67,\n",
    "71, 73, 79, 83, 89, 97]\n",
    "\n",
    "print(is_prime(primes,0,len(primes)-1,3))\n",
    "print(is_prime(primes,0,len(primes)-1,4))\n",
    "print(is_prime(primes,0,len(primes)-1,67))\n",
    "print(is_prime(primes,0,len(primes)-1,10))"
   ]
  },
  {
   "cell_type": "markdown",
   "id": "f1fd84df-044a-4a50-b332-11636e4b7388",
   "metadata": {},
   "source": [
    "# Q4"
   ]
  },
  {
   "cell_type": "code",
   "execution_count": 17,
   "id": "3b70b15c-ca98-4cd4-9294-4e188c4cf03e",
   "metadata": {},
   "outputs": [
    {
     "name": "stdout",
     "output_type": "stream",
     "text": [
      "2\n",
      "3\n",
      "1\n"
     ]
    }
   ],
   "source": [
    "def power_ranger(n,a,b):\n",
    "    flag = 0\n",
    "    for i in range(1,b+1):\n",
    "        if i**n >= a and i**n <= b:\n",
    "            flag = flag+1\n",
    "    return flag\n",
    "\n",
    "print(power_ranger(2,49,65))\n",
    "print(power_ranger(3,1,27))\n",
    "print(power_ranger(10,1,5))\n",
    "\n",
    "        \n",
    "    "
   ]
  },
  {
   "cell_type": "markdown",
   "id": "d76226b1-8edc-44f7-9abd-fc068e54429c",
   "metadata": {},
   "source": [
    "# Q5"
   ]
  },
  {
   "cell_type": "code",
   "execution_count": 23,
   "id": "6ec25ba2-275c-4def-a99a-6b9ff5744714",
   "metadata": {},
   "outputs": [
    {
     "name": "stdout",
     "output_type": "stream",
     "text": [
      "760833\n",
      "7709823\n"
     ]
    }
   ],
   "source": [
    "def rearranged_difference(num):\n",
    "    s=[]\n",
    "    for i in str(num):\n",
    "        s.append(i)\n",
    "        \n",
    "    return int(''.join(sorted(s,reverse=True)))-int(''.join(sorted(s)))\n",
    "print(rearranged_difference(972882))\n",
    "print(rearranged_difference(3320707))\n",
    "        \n",
    "    "
   ]
  },
  {
   "cell_type": "code",
   "execution_count": null,
   "id": "06b3472f-9832-40d6-844e-10fe74640911",
   "metadata": {},
   "outputs": [],
   "source": []
  }
 ],
 "metadata": {
  "kernelspec": {
   "display_name": "Python 3 (ipykernel)",
   "language": "python",
   "name": "python3"
  },
  "language_info": {
   "codemirror_mode": {
    "name": "ipython",
    "version": 3
   },
   "file_extension": ".py",
   "mimetype": "text/x-python",
   "name": "python",
   "nbconvert_exporter": "python",
   "pygments_lexer": "ipython3",
   "version": "3.8.0"
  }
 },
 "nbformat": 4,
 "nbformat_minor": 5
}
