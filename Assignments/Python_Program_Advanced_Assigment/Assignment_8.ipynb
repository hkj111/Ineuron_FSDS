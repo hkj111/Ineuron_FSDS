{
 "cells": [
  {
   "cell_type": "markdown",
   "id": "78fe3e3f-a83b-4f3e-836c-bc768bdc7cf3",
   "metadata": {},
   "source": [
    "# Q1"
   ]
  },
  {
   "cell_type": "code",
   "execution_count": 11,
   "id": "8fb3e606-0b91-4149-883b-e263a1c33787",
   "metadata": {},
   "outputs": [
    {
     "name": "stdout",
     "output_type": "stream",
     "text": [
      "True\n",
      "False\n",
      "False\n"
     ]
    }
   ],
   "source": [
    "def vowel_links(string):\n",
    "    lst = string.split(' ')\n",
    "    flag = 0\n",
    "    for i in range(0,len(lst)):\n",
    "        if i+1!=len(lst):\n",
    "            if lst[i][-1] in ['a','e','i','o','u'] and lst[i+1][0] in ['a','e','i','o','u']:\n",
    "                flag = flag+1\n",
    "                return True\n",
    "    if flag ==0:\n",
    "        return False\n",
    "    \n",
    "print(vowel_links('a very large appliance'))\n",
    "print(vowel_links('an open fire'))\n",
    "print(vowel_links('a sudden applause'))\n",
    "            "
   ]
  },
  {
   "cell_type": "markdown",
   "id": "5e3e798b-f7f1-48a1-8855-867533e57aca",
   "metadata": {},
   "source": [
    "# Q2"
   ]
  },
  {
   "cell_type": "code",
   "execution_count": 30,
   "id": "8c3665fd-e26a-4899-ad43-1a6385ed13e5",
   "metadata": {},
   "outputs": [
    {
     "name": "stdout",
     "output_type": "stream",
     "text": [
      "True\n",
      "False\n",
      "True\n",
      "False\n"
     ]
    }
   ],
   "source": [
    "import re\n",
    "def first_before_second(string,letter1,letter2):\n",
    "    l1 = [i.start() for i in re.finditer(letter1, string)]\n",
    "    l2 = [i.start() for i in re.finditer(letter2, string)]\n",
    "    flag = 0\n",
    "    for i in l1:\n",
    "        for j in l2:\n",
    "            if i>j:\n",
    "                flag = flag+1\n",
    "                return False\n",
    "    if flag == 0:\n",
    "        return True\n",
    "    \n",
    "\n",
    "    \n",
    "    \n",
    "print(first_before_second('a rabbit jumps joyfully', 'a', 'j'))\n",
    "print(first_before_second('happy birthday', 'a', 'y'))\n",
    "print(first_before_second('knaves knew about waterfalls', 'k', 'w'))\n",
    "print(first_before_second('precarious kangaroos', 'k', 'a'))\n",
    "    "
   ]
  },
  {
   "cell_type": "markdown",
   "id": "4017d1bf-dd22-433c-98c7-bc4b913b2888",
   "metadata": {},
   "source": [
    "# Q3"
   ]
  },
  {
   "cell_type": "code",
   "execution_count": 35,
   "id": "6d503f51-538c-4ec7-be29-f901ac4c132d",
   "metadata": {},
   "outputs": [
    {
     "name": "stdout",
     "output_type": "stream",
     "text": [
      "[4, 8]\n",
      "EAI\n"
     ]
    }
   ],
   "source": [
    "def char_at_pos(lst,word):\n",
    "    f_string = ''\n",
    "    f_list = []\n",
    "    for i in range(1,len(lst)+1):\n",
    "        if word == 'even':\n",
    "            if i%2==0:\n",
    "                if type(lst) == str:\n",
    "                    f_string += lst[i-1]\n",
    "                elif type(lst) == list:\n",
    "                    f_list.append(lst[i-1])\n",
    "        elif word == 'odd':\n",
    "            if i%2!=0:\n",
    "                if type(lst) == str:\n",
    "                    f_string += lst[i-1]\n",
    "                elif type(lst) == list:\n",
    "                    f_list.append(lst[i-1])\n",
    "                    \n",
    "            \n",
    "    if type(lst) == list:\n",
    "        return f_list\n",
    "    else:\n",
    "        return f_string\n",
    "    \n",
    "print(char_at_pos([2,4,6,8,10],'even'))\n",
    "print(char_at_pos('EDABIT','odd'))\n",
    "                \n",
    "            \n",
    "    "
   ]
  },
  {
   "cell_type": "markdown",
   "id": "f26126e6-c6f5-4ff1-8878-40850e21b8a3",
   "metadata": {},
   "source": [
    "# Q4"
   ]
  },
  {
   "cell_type": "code",
   "execution_count": 37,
   "id": "8b6e6f9e-57ec-4f27-a411-c903b307a0f8",
   "metadata": {},
   "outputs": [
    {
     "name": "stdout",
     "output_type": "stream",
     "text": [
      "10\n",
      "1\n",
      "64\n"
     ]
    }
   ],
   "source": [
    "import functools\n",
    "import math\n",
    "def GCD(lst):\n",
    "    return functools.reduce(math.gcd, tuple(lst))\n",
    "print(GCD([10,20,30]))\n",
    "print(GCD([1,2,3,100]))\n",
    "print(GCD([1024,192,2048,512]))"
   ]
  },
  {
   "cell_type": "markdown",
   "id": "eb6b53d9-cf08-4443-870b-14cb3b8b8111",
   "metadata": {},
   "source": [
    "# Q5"
   ]
  },
  {
   "cell_type": "code",
   "execution_count": 7,
   "id": "eeaafa58-4998-47b2-9d05-e4ddb53ffab6",
   "metadata": {},
   "outputs": [
    {
     "name": "stdout",
     "output_type": "stream",
     "text": [
      "Decimal Only\n",
      "Binary Only\n",
      "Decimal and Binary\n",
      "Neither!\n"
     ]
    }
   ],
   "source": [
    "def pallindrome_type(n):\n",
    "    binary = str(bin(n).replace(\"0b\", \"\"))\n",
    "    decimal = str(n)\n",
    "    reverse_binary = binary[::-1]\n",
    "    reverse_decimal = decimal[::-1]\n",
    "    if binary==reverse_binary and reverse_decimal==decimal:\n",
    "        return 'Decimal and Binary'\n",
    "    elif binary==reverse_binary:\n",
    "        return 'Binary Only'\n",
    "    elif decimal==reverse_decimal:\n",
    "        return 'Decimal Only'\n",
    "    else:\n",
    "        return 'Neither!'\n",
    "    \n",
    "print(pallindrome_type(1306031))\n",
    "print(pallindrome_type(427787))\n",
    "print(pallindrome_type(313))\n",
    "print(pallindrome_type(934))"
   ]
  },
  {
   "cell_type": "code",
   "execution_count": null,
   "id": "4ace4d22-b8cf-4f72-b362-671938729de3",
   "metadata": {},
   "outputs": [],
   "source": []
  }
 ],
 "metadata": {
  "kernelspec": {
   "display_name": "Python 3 (ipykernel)",
   "language": "python",
   "name": "python3"
  },
  "language_info": {
   "codemirror_mode": {
    "name": "ipython",
    "version": 3
   },
   "file_extension": ".py",
   "mimetype": "text/x-python",
   "name": "python",
   "nbconvert_exporter": "python",
   "pygments_lexer": "ipython3",
   "version": "3.8.0"
  }
 },
 "nbformat": 4,
 "nbformat_minor": 5
}
