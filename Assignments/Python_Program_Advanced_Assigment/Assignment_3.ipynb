{
 "cells": [
  {
   "cell_type": "markdown",
   "id": "bf2cb82b-44d6-4b19-a5dc-918a89b912a7",
   "metadata": {},
   "source": [
    "# Q1"
   ]
  },
  {
   "cell_type": "code",
   "execution_count": 4,
   "id": "60a79428-0a8e-4119-8706-ac9ac805d320",
   "metadata": {},
   "outputs": [],
   "source": [
    "def arithmetic_operation(expression):\n",
    "    lst = expression.split(\" \")\n",
    "    num1 = int(lst[0])\n",
    "    operator = lst[1]\n",
    "    num2 = int(lst[2])\n",
    "    if operator == '+':\n",
    "        return num1+num2\n",
    "    elif operator == '-':\n",
    "        return num1-num2\n",
    "    elif operator == '*':\n",
    "        return num1*num2\n",
    "    elif operator == '//':\n",
    "        if num2==0:\n",
    "            return -1\n",
    "        return num1//num2\n",
    "    "
   ]
  },
  {
   "cell_type": "code",
   "execution_count": 6,
   "id": "d0a4a41f-5f7b-4509-9582-d9cacc03e51f",
   "metadata": {},
   "outputs": [
    {
     "name": "stdout",
     "output_type": "stream",
     "text": [
      "24\n",
      "-1\n"
     ]
    }
   ],
   "source": [
    "print(arithmetic_operation('12 + 12'))\n",
    "print(arithmetic_operation('12 // 0'))"
   ]
  },
  {
   "cell_type": "markdown",
   "id": "e53dc087-5d2f-490a-b440-f023ecdd63e1",
   "metadata": {},
   "source": [
    "# Q2"
   ]
  },
  {
   "cell_type": "code",
   "execution_count": 17,
   "id": "77fbbdfc-b8e4-48b9-81fd-8f9a89031da0",
   "metadata": {
    "tags": []
   },
   "outputs": [],
   "source": [
    "import math\n",
    "\n",
    "def perimeter(sides):\n",
    "    a = sides[0]\n",
    "    b = sides[1]\n",
    "    c = sides[2]\n",
    "    ab = distance(a[0],a[1],b[0],b[1])\n",
    "    bc = distance(b[0],b[1],c[0],c[1])\n",
    "    ca = distance(c[0],c[1],a[0],a[1])\n",
    "    return ab+bc+ca\n",
    "    \n",
    "def distance(x1,y1,x2,y2):\n",
    "    return math.sqrt((x2-x1)**2 + (y2-y1)**2)\n",
    "    "
   ]
  },
  {
   "cell_type": "code",
   "execution_count": 18,
   "id": "3d7bdd55-4efd-474c-8534-30b5207fd68f",
   "metadata": {},
   "outputs": [
    {
     "data": {
      "text/plain": [
       "47.07918859608948"
      ]
     },
     "execution_count": 18,
     "metadata": {},
     "output_type": "execute_result"
    }
   ],
   "source": [
    "perimeter([[15, 7],[5, 22],[11, 1]])"
   ]
  },
  {
   "cell_type": "markdown",
   "id": "e038bf2c-ae31-47be-a157-e104e3aafe07",
   "metadata": {},
   "source": [
    "# Q3"
   ]
  },
  {
   "cell_type": "code",
   "execution_count": 103,
   "id": "3f1dba01-94d9-492c-aa40-957ab819d1b7",
   "metadata": {},
   "outputs": [],
   "source": [
    "def tallest_skyscrapper(build):\n",
    "    length = []\n",
    "    leng = len(build)\n",
    "    for i in range(0,leng+1):\n",
    "        length.append([])\n",
    "    \n",
    "    for i in build:\n",
    "        for j in range(0,len(i)):\n",
    "            length[j].append(i[j])\n",
    "    lar = 0\n",
    "    for i in length:\n",
    "        n = sum(i)\n",
    "        if n > lar:\n",
    "            lar = n\n",
    "    return lar\n",
    "            \n",
    "    "
   ]
  },
  {
   "cell_type": "code",
   "execution_count": 104,
   "id": "df49f04d-38bf-4f1c-bf17-1fb0036c7241",
   "metadata": {},
   "outputs": [],
   "source": [
    "build = [[0, 0, 0, 0, 0, 0],\n",
    "[0, 0, 0, 0, 1, 0],\n",
    "[0, 0, 1, 0, 1, 0],\n",
    "[0, 1, 1, 1, 1, 0],\n",
    "[1, 1, 1, 1, 1, 1]]"
   ]
  },
  {
   "cell_type": "code",
   "execution_count": 105,
   "id": "1e927664-2748-4bef-8fda-68973998bea7",
   "metadata": {},
   "outputs": [
    {
     "data": {
      "text/plain": [
       "4"
      ]
     },
     "execution_count": 105,
     "metadata": {},
     "output_type": "execute_result"
    }
   ],
   "source": [
    "tallest_skyscrapper(build)"
   ]
  },
  {
   "cell_type": "markdown",
   "id": "f86de06d-4fa5-4547-848d-3392666eb167",
   "metadata": {},
   "source": [
    "# Q4"
   ]
  },
  {
   "cell_type": "code",
   "execution_count": 107,
   "id": "9f1cf927-e5d6-4072-a04d-8c327869b986",
   "metadata": {},
   "outputs": [],
   "source": [
    "def bonus(days):\n",
    "    if days < 32:\n",
    "        return 0\n",
    "    elif days >32 and days <= 40:\n",
    "        return (days-32)*325\n",
    "    elif days >40 and days <=48:\n",
    "        return (8*325)+(days-40)*550\n",
    "    elif days >48:\n",
    "        return (8*325)+(8*550)+(days-48)*600"
   ]
  },
  {
   "cell_type": "code",
   "execution_count": 109,
   "id": "0e928cdf-3348-4f42-aec8-3d38362ce898",
   "metadata": {},
   "outputs": [
    {
     "name": "stdout",
     "output_type": "stream",
     "text": [
      "0\n",
      "1625\n",
      "8200\n"
     ]
    }
   ],
   "source": [
    "print(bonus(15))\n",
    "print(bonus(37))\n",
    "print(bonus(50))"
   ]
  },
  {
   "cell_type": "markdown",
   "id": "9f131bdb-d68b-4918-8abb-d03723b75c6c",
   "metadata": {},
   "source": [
    "# Q5"
   ]
  },
  {
   "cell_type": "code",
   "execution_count": 120,
   "id": "bb880c16-f93b-4315-813d-52117e86c4c0",
   "metadata": {},
   "outputs": [],
   "source": [
    "def is_disarium(num):\n",
    "    num = str(num)\n",
    "    sum_num = 0\n",
    "    for i in range(1,len(str(num))+1):\n",
    "        sum_num = sum_num + int(num[i-1])**i\n",
    "    if int(num)==sum_num:\n",
    "        return True\n",
    "    else:\n",
    "        return False\n",
    "    \n",
    "        "
   ]
  },
  {
   "cell_type": "code",
   "execution_count": 122,
   "id": "63e9ab19-9522-499d-a55e-c9b4ea0c0488",
   "metadata": {},
   "outputs": [
    {
     "name": "stdout",
     "output_type": "stream",
     "text": [
      "False\n",
      "True\n",
      "True\n"
     ]
    }
   ],
   "source": [
    "print(is_disarium(75))\n",
    "print(is_disarium(135))\n",
    "print(is_disarium(518))"
   ]
  },
  {
   "cell_type": "code",
   "execution_count": null,
   "id": "199b5175-af80-4604-83c1-7c529fc8eab6",
   "metadata": {},
   "outputs": [],
   "source": []
  }
 ],
 "metadata": {
  "kernelspec": {
   "display_name": "Python 3 (ipykernel)",
   "language": "python",
   "name": "python3"
  },
  "language_info": {
   "codemirror_mode": {
    "name": "ipython",
    "version": 3
   },
   "file_extension": ".py",
   "mimetype": "text/x-python",
   "name": "python",
   "nbconvert_exporter": "python",
   "pygments_lexer": "ipython3",
   "version": "3.8.0"
  }
 },
 "nbformat": 4,
 "nbformat_minor": 5
}
