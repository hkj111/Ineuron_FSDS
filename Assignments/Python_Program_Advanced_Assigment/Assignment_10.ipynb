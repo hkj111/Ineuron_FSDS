{
 "cells": [
  {
   "cell_type": "markdown",
   "id": "807665b1-d1f6-469d-8450-5cf8c2c6fcd0",
   "metadata": {},
   "source": [
    "# Q1"
   ]
  },
  {
   "cell_type": "code",
   "execution_count": 7,
   "id": "f72c8a10-9273-4219-88ad-39f0e073e022",
   "metadata": {},
   "outputs": [
    {
     "name": "stdout",
     "output_type": "stream",
     "text": [
      "[['####'], ['#  #'], ['#  #'], ['#  #'], ['####']]\n",
      "[['**********'], ['*        *'], ['**********']]\n",
      "Frame's width is not more than 2\n"
     ]
    }
   ],
   "source": [
    "def get_frame(width,height,char):\n",
    "    f_list=[]\n",
    "    if width<=2:\n",
    "        return \"Frame's width is not more than 2\"\n",
    "    for i in range(height):\n",
    "        if i==0 or i==height-1:\n",
    "            t_list = [char*width]\n",
    "            f_list.append(t_list)\n",
    "        else:\n",
    "            s=\"\"\n",
    "            t_list = []\n",
    "            for j in range(width):\n",
    "                if j==0:\n",
    "                    s+=char\n",
    "                elif j==width-1:\n",
    "                    s+=char\n",
    "                else:\n",
    "                    s+=' '\n",
    "            t_list.append(s)\n",
    "            f_list.append(t_list)\n",
    "    return f_list\n",
    "\n",
    "\n",
    "print(get_frame(4,5,'#'))\n",
    "print(get_frame(10,3,'*'))\n",
    "print(get_frame(2,5,'O'))\n",
    "                \n",
    "                \n",
    "        \n",
    "        \n",
    "    \n",
    "    "
   ]
  },
  {
   "cell_type": "markdown",
   "id": "713be1b9-94c4-43dc-98b8-d3f5d56d8f64",
   "metadata": {},
   "source": [
    "# Q2"
   ]
  },
  {
   "cell_type": "code",
   "execution_count": 15,
   "id": "3f3dbfb4-8768-4ab7-8d52-62a0b43a0850",
   "metadata": {},
   "outputs": [
    {
     "name": "stdout",
     "output_type": "stream",
     "text": [
      "False\n",
      "True\n",
      "False\n"
     ]
    }
   ],
   "source": [
    "def boolean_and(lst):\n",
    "    for i in range(0,len(lst)):\n",
    "        try:\n",
    "            if i == 0:\n",
    "                a = lst[i]&lst[i+1]\n",
    "            else:\n",
    "                a = a&lst[i+1]\n",
    "        except:pass\n",
    "    return a\n",
    "def boolean_or(lst):\n",
    "    for i in range(0,len(lst)):\n",
    "        try:\n",
    "            if i == 0:\n",
    "                a = lst[i]|lst[i+1]\n",
    "            else:\n",
    "                a = a|lst[i+1]\n",
    "        except:pass\n",
    "    return a\n",
    "\n",
    "def boolean_xor(lst):\n",
    "    for i in range(0,len(lst)):\n",
    "        try:\n",
    "            if i == 0:\n",
    "                a = lst[i]^lst[i+1]\n",
    "            else:\n",
    "                a = a^lst[i+1]\n",
    "        except:pass\n",
    "    return a\n",
    "               \n",
    "        \n",
    "        \n",
    "\n",
    "print(boolean_and([True, True, False, True]))\n",
    "print(boolean_or([True, True, False, False]))\n",
    "print(boolean_xor([True, True, False, False]))"
   ]
  },
  {
   "cell_type": "markdown",
   "id": "3049c192-aabe-46e3-be03-0c7d4663e4f2",
   "metadata": {},
   "source": [
    "# Q3"
   ]
  },
  {
   "cell_type": "code",
   "execution_count": 8,
   "id": "75588a68-b489-4e46-8a18-8a1c066674b8",
   "metadata": {},
   "outputs": [
    {
     "name": "stdout",
     "output_type": "stream",
     "text": [
      "['#####', '#   #', '#   #', '#   #', '#####']\n",
      "['####', '#  #', '#  #', '####']\n",
      "['###', '# #', '###']\n",
      "['##', '##']\n"
     ]
    }
   ],
   "source": [
    "def make_box(width):\n",
    "    char = \"#\"\n",
    "    f_list=[]\n",
    "    for i in range(width):\n",
    "        if i==0 or i==width-1:\n",
    "            t_list = f\"{char*width}\"\n",
    "            f_list.append(t_list)\n",
    "        else:\n",
    "            s=\"\"\n",
    "            t_list = \"\"\n",
    "            for j in range(width):\n",
    "                if j==0:\n",
    "                    s+=char\n",
    "                elif j==width-1:\n",
    "                    s+=char\n",
    "                else:\n",
    "                    s+=' '\n",
    "            t_list+=s\n",
    "            f_list.append(t_list)\n",
    "    return f_list\n",
    "print(make_box(5))\n",
    "print(make_box(4))\n",
    "print(make_box(3))\n",
    "print(make_box(2))"
   ]
  },
  {
   "cell_type": "markdown",
   "id": "6158c58b-0d43-41f6-b3b6-01db778fea1a",
   "metadata": {},
   "source": [
    "# Q4"
   ]
  },
  {
   "cell_type": "code",
   "execution_count": 16,
   "id": "dc4a0931-9b06-4391-bc35-0f4d2f773c25",
   "metadata": {},
   "outputs": [
    {
     "name": "stdout",
     "output_type": "stream",
     "text": [
      "True\n",
      "False\n",
      "False\n"
     ]
    }
   ],
   "source": [
    "def no_duplicate_letters(string):\n",
    "    lst = []\n",
    "    flag = 0\n",
    "    words = string.split(' ')\n",
    "    for i in words:\n",
    "        for j in i:\n",
    "            lst.append(j)\n",
    "        if len(set(lst))<len(lst):\n",
    "            flag+=1\n",
    "            return False\n",
    "        lst=[]\n",
    "    if flag == 0:\n",
    "        return True\n",
    "\n",
    "print(no_duplicate_letters('Fortune Favours the bold'))\n",
    "print(no_duplicate_letters('Look before you leap'))\n",
    "print(no_duplicate_letters('An Apple a day keeps a doctor away'))"
   ]
  },
  {
   "cell_type": "markdown",
   "id": "986a6ab7-7bb4-49d9-82a5-045cda1e2479",
   "metadata": {},
   "source": [
    "# Q5"
   ]
  },
  {
   "cell_type": "code",
   "execution_count": 23,
   "id": "682254f4-5b23-48c2-9eb9-c1cc6f2415a0",
   "metadata": {},
   "outputs": [
    {
     "data": {
      "text/plain": [
       "['California', 'Florida']"
      ]
     },
     "execution_count": 23,
     "metadata": {},
     "output_type": "execute_result"
    }
   ],
   "source": [
    "txt = 'Texas = no, California = yes, Florida = yes, Michigan = no'\n",
    "import re\n",
    "re.findall(r'California+|Florida+',txt)"
   ]
  }
 ],
 "metadata": {
  "kernelspec": {
   "display_name": "Python 3 (ipykernel)",
   "language": "python",
   "name": "python3"
  },
  "language_info": {
   "codemirror_mode": {
    "name": "ipython",
    "version": 3
   },
   "file_extension": ".py",
   "mimetype": "text/x-python",
   "name": "python",
   "nbconvert_exporter": "python",
   "pygments_lexer": "ipython3",
   "version": "3.8.0"
  }
 },
 "nbformat": 4,
 "nbformat_minor": 5
}
