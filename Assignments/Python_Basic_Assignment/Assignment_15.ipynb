{
 "cells": [
  {
   "cell_type": "markdown",
   "metadata": {},
   "source": [
    "# Q1.How many seconds are in an hour? Use the interactive interpreter as a calculator and multiply the number of seconds in a minute (60) by the number of minutes in an hour (also 60)."
   ]
  },
  {
   "cell_type": "code",
   "execution_count": 8,
   "metadata": {},
   "outputs": [
    {
     "name": "stdout",
     "output_type": "stream",
     "text": [
      "Number of seconds in an hour:  3600\n"
     ]
    }
   ],
   "source": [
    "minutes_per_hour  =60\n",
    "seconds_per_minute = 60\n",
    "\n",
    "print('Number of seconds in an hour: ',(minutes_per_hour*seconds_per_minute))"
   ]
  },
  {
   "cell_type": "markdown",
   "metadata": {},
   "source": [
    "# Q2 Assign the result from the previous task (seconds in an hour) to a variable called seconds_per_hour."
   ]
  },
  {
   "cell_type": "code",
   "execution_count": 9,
   "metadata": {},
   "outputs": [
    {
     "name": "stdout",
     "output_type": "stream",
     "text": [
      "Number of seconds in an hour:  3600\n"
     ]
    }
   ],
   "source": [
    "minutes_per_hour  =60\n",
    "seconds_per_minute = 60\n",
    "\n",
    "seconds_per_hour = minutes_per_hour*seconds_per_minute\n",
    "print('Number of seconds in an hour: ',seconds_per_hour)"
   ]
  },
  {
   "cell_type": "markdown",
   "metadata": {},
   "source": [
    "# Q3. How many seconds do you think there are in a day? Make use of the variables seconds per hour and minutes per hour.\n"
   ]
  },
  {
   "cell_type": "code",
   "execution_count": 10,
   "metadata": {},
   "outputs": [
    {
     "name": "stdout",
     "output_type": "stream",
     "text": [
      "Seconds in a Day:  86400\n"
     ]
    }
   ],
   "source": [
    "hours_per_day = 24\n",
    "minutes_per_hour  = 60\n",
    "seconds_per_minute = 60\n",
    "\n",
    "seconds_per_hour = minutes_per_hour*seconds_per_minute\n",
    "\n",
    "\n",
    "print(\"Seconds in a Day: \",seconds_per_hour*24)\n"
   ]
  },
  {
   "cell_type": "markdown",
   "metadata": {},
   "source": [
    "# Q4. Calculate seconds per day again, but this time save the result in a variable called seconds_per_day"
   ]
  },
  {
   "cell_type": "code",
   "execution_count": 11,
   "metadata": {},
   "outputs": [
    {
     "name": "stdout",
     "output_type": "stream",
     "text": [
      "Seconds in a Day:  86400\n"
     ]
    }
   ],
   "source": [
    "hours_in_day = 24\n",
    "minutes_per_hour  = 60\n",
    "seconds_per_minute = 60\n",
    "\n",
    "seconds_per_hour = minutes_per_hour*seconds_per_minute\n",
    "\n",
    "seconds_per_day = seconds_per_hour*24\n",
    "print(\"Seconds in a Day: \",seconds_per_day)"
   ]
  },
  {
   "cell_type": "markdown",
   "metadata": {},
   "source": [
    "# Q5. Divide seconds_per_day by seconds_per_hour. Use floating-point (/) division."
   ]
  },
  {
   "cell_type": "code",
   "execution_count": 12,
   "metadata": {},
   "outputs": [
    {
     "name": "stdout",
     "output_type": "stream",
     "text": [
      "24.0\n"
     ]
    }
   ],
   "source": [
    "hours_in_day = 24\n",
    "minutes_per_hour  = 60\n",
    "seconds_per_minute = 60\n",
    "\n",
    "seconds_per_hour = minutes_per_hour*seconds_per_minute\n",
    "\n",
    "seconds_per_day = seconds_per_hour*24\n",
    "\n",
    "print(seconds_per_day/seconds_per_hour)"
   ]
  },
  {
   "cell_type": "markdown",
   "metadata": {},
   "source": [
    "# Q6. Divide seconds_per_day by seconds_per_hour, using integer (//) division. Did this number agree with the floating-point value from the previous question, aside from the final .0?"
   ]
  },
  {
   "cell_type": "code",
   "execution_count": 13,
   "metadata": {},
   "outputs": [
    {
     "name": "stdout",
     "output_type": "stream",
     "text": [
      "24\n"
     ]
    }
   ],
   "source": [
    "hours_in_day = 24\n",
    "minutes_per_hour  = 60\n",
    "seconds_per_minute = 60\n",
    "\n",
    "seconds_per_hour = minutes_per_hour*seconds_per_minute\n",
    "\n",
    "seconds_per_day = seconds_per_hour*24\n",
    "\n",
    "print(seconds_per_day//seconds_per_hour)"
   ]
  },
  {
   "cell_type": "markdown",
   "metadata": {},
   "source": [
    "### Yes the number agree with the floating-point value from the previous question"
   ]
  },
  {
   "cell_type": "markdown",
   "metadata": {},
   "source": [
    "# 7. Write a generator, genPrimes, that returns the sequence of prime numbers on successive calls to its next() method: 2, 3, 5, 7, 11, ..."
   ]
  },
  {
   "cell_type": "code",
   "execution_count": 27,
   "metadata": {},
   "outputs": [
    {
     "name": "stdout",
     "output_type": "stream",
     "text": [
      "2\n",
      "3\n",
      "5\n"
     ]
    }
   ],
   "source": [
    "# Prime number generator\n",
    "def prime_generator(end):\n",
    "    for n in range(2, end):     \n",
    "        for x in range(2, n):  \n",
    "            if n % x == 0:      \n",
    "                break\n",
    "        else:                   \n",
    "            yield n             \n",
    "\n",
    "\n",
    "g = prime_generator(1000)\n",
    "print(next(g))\n",
    "print(next(g))\n",
    "print(next(g))"
   ]
  },
  {
   "cell_type": "code",
   "execution_count": null,
   "metadata": {},
   "outputs": [],
   "source": []
  }
 ],
 "metadata": {
  "kernelspec": {
   "display_name": "Python 3.8.0 ('data_science')",
   "language": "python",
   "name": "python3"
  },
  "language_info": {
   "codemirror_mode": {
    "name": "ipython",
    "version": 3
   },
   "file_extension": ".py",
   "mimetype": "text/x-python",
   "name": "python",
   "nbconvert_exporter": "python",
   "pygments_lexer": "ipython3",
   "version": "3.8.0"
  },
  "orig_nbformat": 4,
  "vscode": {
   "interpreter": {
    "hash": "25b4040b5ff3020960dc640986ca1625816a4555c1030d7be6e26966b849009a"
   }
  }
 },
 "nbformat": 4,
 "nbformat_minor": 2
}
