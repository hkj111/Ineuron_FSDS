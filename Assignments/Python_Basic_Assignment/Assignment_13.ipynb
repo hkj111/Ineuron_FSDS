{
 "cells": [
  {
   "cell_type": "markdown",
   "metadata": {},
   "source": [
    "# Assignment13"
   ]
  },
  {
   "cell_type": "markdown",
   "metadata": {},
   "source": [
    "#Q1   \n",
    "Excel retains the formatting and content and whereas CSV just stores simple text"
   ]
  },
  {
   "cell_type": "markdown",
   "metadata": {},
   "source": [
    "#Q2   \n",
    "We pass the csvfile object in these which is obtained by with open('test.csv', newline='') as csvfile in reading and with open('test.csv','w', newline='') in writing\n"
   ]
  },
  {
   "cell_type": "markdown",
   "metadata": {},
   "source": [
    "#Q3   \n",
    "For reading in read mode and for writing in write mode"
   ]
  },
  {
   "cell_type": "markdown",
   "metadata": {},
   "source": [
    "#Q4   \n",
    "csv_object.writerows(list)"
   ]
  },
  {
   "cell_type": "markdown",
   "metadata": {},
   "source": [
    "#Q5   \n",
    "delimiter specifies what has been used to seperate the data in CSV file whereas line terminator defines where the line is ending "
   ]
  },
  {
   "cell_type": "markdown",
   "metadata": {},
   "source": [
    "#Q6   \n",
    "import json   \n",
    "json.load()"
   ]
  },
  {
   "cell_type": "markdown",
   "metadata": {},
   "source": [
    "#Q7   \n",
    "import json   \n",
    "json.dumps()"
   ]
  }
 ],
 "metadata": {
  "language_info": {
   "name": "python"
  },
  "orig_nbformat": 4
 },
 "nbformat": 4,
 "nbformat_minor": 2
}
