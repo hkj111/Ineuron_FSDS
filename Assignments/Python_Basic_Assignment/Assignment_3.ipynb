{
 "cells": [
  {
   "cell_type": "markdown",
   "metadata": {},
   "source": [
    "# Assignment 3"
   ]
  },
  {
   "cell_type": "markdown",
   "metadata": {},
   "source": [
    "#Q1   \n",
    "Having Function in your program introduces the resuabiliity of code and makes it modular which inturn makes it easy to understand and debug"
   ]
  },
  {
   "cell_type": "markdown",
   "metadata": {},
   "source": [
    "#Q2    \n",
    "It runs when the function is called"
   ]
  },
  {
   "cell_type": "markdown",
   "metadata": {},
   "source": [
    "#Q3   \n",
    "   def function_name():   \n",
    "         pass   \n",
    "'def' creates the function   "
   ]
  },
  {
   "cell_type": "markdown",
   "metadata": {},
   "source": [
    "#Q4   \n",
    "Function is where the code to be executed is defined and Function call is where the function code is executed."
   ]
  },
  {
   "cell_type": "markdown",
   "metadata": {},
   "source": [
    "#Q5   \n",
    "Their is one Global Scope and Undefined local scopes in pytho"
   ]
  },
  {
   "cell_type": "markdown",
   "metadata": {},
   "source": [
    "#Q6   \n",
    "It becomes undefined after function call return. However it retain its value until next time the function is called"
   ]
  },
  {
   "cell_type": "markdown",
   "metadata": {},
   "source": [
    "#Q7   \n",
    "Returns value is what function returns when it is called and it terminates the function there just as return is executed."
   ]
  },
  {
   "cell_type": "markdown",
   "metadata": {},
   "source": [
    "#Q8   \n",
    "There is no return value for that function then. None"
   ]
  },
  {
   "cell_type": "markdown",
   "metadata": {},
   "source": [
    "#Q9   \n",
    "By writing Global before declairing Variable   \n",
    "Like this global var_name\n"
   ]
  },
  {
   "cell_type": "markdown",
   "metadata": {},
   "source": [
    "#Q10   \n",
    "NoneType"
   ]
  },
  {
   "cell_type": "markdown",
   "metadata": {},
   "source": [
    "#Q11   \n",
    "ModuleNotFoundError: No module named 'areallyourpetsnamederic'"
   ]
  },
  {
   "cell_type": "markdown",
   "metadata": {},
   "source": [
    "#Q12   \n",
    "spam.bacon()"
   ]
  },
  {
   "cell_type": "markdown",
   "metadata": {},
   "source": [
    "#Q13   \n",
    "We can put the program in try catch block. Basically error handling"
   ]
  },
  {
   "cell_type": "markdown",
   "metadata": {},
   "source": [
    "#Q14   \n",
    "In try we write the code which mighty throw some error while executing. In except we handle the exception occured in Try block that is giving the response if there is some error in try block"
   ]
  }
 ],
 "metadata": {
  "interpreter": {
   "hash": "25b4040b5ff3020960dc640986ca1625816a4555c1030d7be6e26966b849009a"
  },
  "kernelspec": {
   "display_name": "Python 3.8.0 ('data_science')",
   "language": "python",
   "name": "python3"
  },
  "language_info": {
   "codemirror_mode": {
    "name": "ipython",
    "version": 3
   },
   "file_extension": ".py",
   "mimetype": "text/x-python",
   "name": "python",
   "nbconvert_exporter": "python",
   "pygments_lexer": "ipython3",
   "version": "3.8.0"
  },
  "orig_nbformat": 4
 },
 "nbformat": 4,
 "nbformat_minor": 2
}
