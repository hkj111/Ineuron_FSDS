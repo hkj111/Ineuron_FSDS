{
 "cells": [
  {
   "cell_type": "markdown",
   "metadata": {},
   "source": [
    "# Assignment12"
   ]
  },
  {
   "cell_type": "markdown",
   "metadata": {},
   "source": [
    "#Q1   \n",
    "PdfFileReader will open in read mode and PdfFileWriter will  open in write mode"
   ]
  },
  {
   "cell_type": "markdown",
   "metadata": {},
   "source": [
    "#Q2   \n",
    "by reader_object.getPage(4)"
   ]
  },
  {
   "cell_type": "markdown",
   "metadata": {},
   "source": [
    "#Q3   \n",
    "reader_object.numPages"
   ]
  },
  {
   "cell_type": "markdown",
   "metadata": {},
   "source": [
    "#Q4   \n",
    "reader_object.decrypt('swordfish')"
   ]
  },
  {
   "cell_type": "markdown",
   "metadata": {},
   "source": [
    "#Q5   \n",
    "reader_object.rotateCounterClockwise()"
   ]
  },
  {
   "cell_type": "markdown",
   "metadata": {},
   "source": [
    "#Q6   \n",
    "Paragraph holds all the block level formatting and whereas character level formatting is applied at run level\n"
   ]
  },
  {
   "cell_type": "markdown",
   "metadata": {},
   "source": [
    "#Q7   \n",
    "doc.paragraphs"
   ]
  },
  {
   "cell_type": "markdown",
   "metadata": {},
   "source": [
    "#Q8   \n",
    "run object"
   ]
  },
  {
   "cell_type": "markdown",
   "metadata": {},
   "source": [
    "#Q9   \n",
    "True means the property is on, False means it is of and None specifies that it will inherit the property."
   ]
  },
  {
   "cell_type": "markdown",
   "metadata": {},
   "source": [
    "#Q10   \n",
    "from docx import Document   \n",
    "\n",
    "document = Document()   \n",
    "document.save('new_word|.docx')   "
   ]
  },
  {
   "cell_type": "markdown",
   "metadata": {},
   "source": [
    "#Q11   \n",
    "doc.add_paragraph('Hello There!')"
   ]
  },
  {
   "cell_type": "markdown",
   "metadata": {},
   "source": [
    "#Q12   \n",
    "doc.addd_heading('Headling',level = heading_number)"
   ]
  }
 ],
 "metadata": {
  "interpreter": {
   "hash": "25b4040b5ff3020960dc640986ca1625816a4555c1030d7be6e26966b849009a"
  },
  "kernelspec": {
   "display_name": "Python 3.8.0 ('data_science')",
   "language": "python",
   "name": "python3"
  },
  "language_info": {
   "codemirror_mode": {
    "name": "ipython",
    "version": 3
   },
   "file_extension": ".py",
   "mimetype": "text/x-python",
   "name": "python",
   "nbconvert_exporter": "python",
   "pygments_lexer": "ipython3",
   "version": "3.8.0"
  },
  "orig_nbformat": 4
 },
 "nbformat": 4,
 "nbformat_minor": 2
}
